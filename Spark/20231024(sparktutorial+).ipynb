{
  "nbformat": 4,
  "nbformat_minor": 0,
  "metadata": {
    "colab": {
      "provenance": []
    },
    "kernelspec": {
      "name": "python3",
      "display_name": "Python 3"
    },
    "language_info": {
      "name": "python"
    }
  },
  "cells": [
    {
      "cell_type": "markdown",
      "source": [
        "## Google Drive 연동"
      ],
      "metadata": {
        "id": "5fxKO5Jj6pyJ"
      }
    },
    {
      "cell_type": "code",
      "execution_count": 35,
      "metadata": {
        "colab": {
          "base_uri": "https://localhost:8080/"
        },
        "id": "vhX76n_l6KcV",
        "outputId": "9606b6d0-a7dd-48a0-f4ae-f00e43691867"
      },
      "outputs": [
        {
          "output_type": "stream",
          "name": "stdout",
          "text": [
            "Drive already mounted at /content/drive; to attempt to forcibly remount, call drive.mount(\"/content/drive\", force_remount=True).\n"
          ]
        }
      ],
      "source": [
        "from google.colab import drive\n",
        "drive.mount('/content/drive')"
      ]
    },
    {
      "cell_type": "markdown",
      "source": [
        "## JAVA 설치\n",
        "- JVM 실행 위해서는 JAVA 설치 필수"
      ],
      "metadata": {
        "id": "BYP88UKo7PSf"
      }
    },
    {
      "cell_type": "code",
      "source": [
        "!apt-get install openjdk-8-jdk-headless -qq > /dev/null"
      ],
      "metadata": {
        "id": "HKNNDRCt6npb"
      },
      "execution_count": 36,
      "outputs": []
    },
    {
      "cell_type": "markdown",
      "source": [
        " ## Spark 설치\n",
        " - 기존 : Web Link를 통해서 다운 후, 압축파일 불기\n",
        " - 오늘 : 구글 드라이브에서 파일 가져오기"
      ],
      "metadata": {
        "id": "xItUN78i7iR-"
      }
    },
    {
      "cell_type": "code",
      "source": [
        "%cd /content/drive/MyDrive/멀티캠퍼스/spark"
      ],
      "metadata": {
        "colab": {
          "base_uri": "https://localhost:8080/"
        },
        "id": "MhZTUlGy6n27",
        "outputId": "6ca9adeb-3537-4f39-a1a0-2780c6d576d8"
      },
      "execution_count": 37,
      "outputs": [
        {
          "output_type": "stream",
          "name": "stdout",
          "text": [
            "/content/drive/MyDrive/멀티캠퍼스/spark\n"
          ]
        }
      ]
    },
    {
      "cell_type": "code",
      "source": [
        "!pwd"
      ],
      "metadata": {
        "colab": {
          "base_uri": "https://localhost:8080/"
        },
        "id": "WiS9kutZ8HMD",
        "outputId": "c308fbb3-574a-45d7-b142-8df7c1a17854"
      },
      "execution_count": 38,
      "outputs": [
        {
          "output_type": "stream",
          "name": "stdout",
          "text": [
            "/content/drive/MyDrive/멀티캠퍼스/spark\n"
          ]
        }
      ]
    },
    {
      "cell_type": "code",
      "source": [
        "!ls"
      ],
      "metadata": {
        "colab": {
          "base_uri": "https://localhost:8080/"
        },
        "id": "eDVtFNW-8CUf",
        "outputId": "824de9c0-c834-4c99-f595-32e52d7442b4"
      },
      "execution_count": 39,
      "outputs": [
        {
          "output_type": "stream",
          "name": "stdout",
          "text": [
            "chapter02  chapter03  spark-3.1.1-bin-hadoop2.7.tgz\n"
          ]
        }
      ]
    },
    {
      "cell_type": "code",
      "source": [
        "!cp -r spark-3.1.1-bin-hadoop2.7.tgz /content"
      ],
      "metadata": {
        "id": "5bWq7mhc6n5X"
      },
      "execution_count": 40,
      "outputs": []
    },
    {
      "cell_type": "code",
      "source": [
        "%cd /content/"
      ],
      "metadata": {
        "colab": {
          "base_uri": "https://localhost:8080/"
        },
        "id": "tg6S10yi6n9I",
        "outputId": "01139a85-d848-4d5d-a631-a38d70b2eab8"
      },
      "execution_count": 41,
      "outputs": [
        {
          "output_type": "stream",
          "name": "stdout",
          "text": [
            "/content\n"
          ]
        }
      ]
    },
    {
      "cell_type": "code",
      "source": [
        "!pwd"
      ],
      "metadata": {
        "colab": {
          "base_uri": "https://localhost:8080/"
        },
        "id": "xLj48RH28s9S",
        "outputId": "8cedec1c-45a3-4b1d-8b62-6faf328ae3fb"
      },
      "execution_count": 42,
      "outputs": [
        {
          "output_type": "stream",
          "name": "stdout",
          "text": [
            "/content\n"
          ]
        }
      ]
    },
    {
      "cell_type": "code",
      "source": [
        "!ls"
      ],
      "metadata": {
        "colab": {
          "base_uri": "https://localhost:8080/"
        },
        "id": "LHKfv4ry8s_x",
        "outputId": "91c507a2-7e1a-4361-b7d9-2919b968d201"
      },
      "execution_count": 43,
      "outputs": [
        {
          "output_type": "stream",
          "name": "stdout",
          "text": [
            "drive  sample_data  spark-3.1.1-bin-hadoop2.7  spark-3.1.1-bin-hadoop2.7.tgz\n"
          ]
        }
      ]
    },
    {
      "cell_type": "code",
      "source": [
        "!tar xf spark-3.1.1-bin-hadoop2.7.tgz > /dev/null"
      ],
      "metadata": {
        "id": "e7Gex3eg8tB8"
      },
      "execution_count": 44,
      "outputs": []
    },
    {
      "cell_type": "markdown",
      "source": [
        "## 환경변수 설정\n",
        "- 일반적으로 vi 편집기를 열어서 작업\n",
        "- 구글코랩 : os 라이브러리 사용해서 환경변수 지정"
      ],
      "metadata": {
        "id": "ZAM29RHm9RL-"
      }
    },
    {
      "cell_type": "code",
      "source": [
        "import os\n",
        "os.environ[\"JAVA_HOME\"] = \"/usr/lib/jvm/java-8-openjdk-amd64\"\n",
        "os.environ[\"SPARK_HOME\"] = \"/content/spark-3.1.1-bin-hadoop2.7\""
      ],
      "metadata": {
        "id": "KrEX_L7z8tDt"
      },
      "execution_count": 45,
      "outputs": []
    },
    {
      "cell_type": "markdown",
      "source": [
        "## PySpark 설치\n",
        "- 무조건 설치 파일에 맞춰서 설치를 해준다!!"
      ],
      "metadata": {
        "id": "hOF0ES9O9r-D"
      }
    },
    {
      "cell_type": "code",
      "source": [
        "!pip install -q pyspark==3.1.1"
      ],
      "metadata": {
        "id": "gL0HF15q9hsC"
      },
      "execution_count": 46,
      "outputs": []
    },
    {
      "cell_type": "markdown",
      "source": [
        "## Ngrok 설정\n",
        "- 회원가입해서 Token을 받는다.\n",
        "- 링크 : https://ngrok.com/"
      ],
      "metadata": {
        "id": "t9dEPTRt_E3w"
      }
    },
    {
      "cell_type": "code",
      "source": [
        "!wget https://bin.equinox.io/c/4VmDzA7iaHb/ngrok-stable-linux-amd64.zip &> /dev/null\n",
        "!unzip ngrok-stable-linux-amd64.zip &> /dev/null"
      ],
      "metadata": {
        "id": "sIhE6PcN_O8l"
      },
      "execution_count": 47,
      "outputs": []
    },
    {
      "cell_type": "code",
      "source": [
        "!pip install pyngrok"
      ],
      "metadata": {
        "colab": {
          "base_uri": "https://localhost:8080/"
        },
        "id": "-u588wLr_Rs5",
        "outputId": "ddf03cf2-012f-4b71-f346-a09e8c93d53a"
      },
      "execution_count": 48,
      "outputs": [
        {
          "output_type": "stream",
          "name": "stdout",
          "text": [
            "Collecting pyngrok\n",
            "  Downloading pyngrok-7.0.0.tar.gz (718 kB)\n",
            "\u001b[?25l     \u001b[90m━━━━━━━━━━━━━━━━━━━━━━━━━━━━━━━━━━━━━━━━\u001b[0m \u001b[32m0.0/718.7 kB\u001b[0m \u001b[31m?\u001b[0m eta \u001b[36m-:--:--\u001b[0m\r\u001b[2K     \u001b[91m━━━━━━━━━\u001b[0m\u001b[91m╸\u001b[0m\u001b[90m━━━━━━━━━━━━━━━━━━━━━━━━━━━━━━\u001b[0m \u001b[32m174.1/718.7 kB\u001b[0m \u001b[31m5.3 MB/s\u001b[0m eta \u001b[36m0:00:01\u001b[0m\r\u001b[2K     \u001b[91m━━━━━━━━━━━━━━━━━━━━━━━━━━━━━━━━━━━━━━━\u001b[0m\u001b[91m╸\u001b[0m \u001b[32m716.8/718.7 kB\u001b[0m \u001b[31m12.7 MB/s\u001b[0m eta \u001b[36m0:00:01\u001b[0m\r\u001b[2K     \u001b[90m━━━━━━━━━━━━━━━━━━━━━━━━━━━━━━━━━━━━━━━━\u001b[0m \u001b[32m718.7/718.7 kB\u001b[0m \u001b[31m9.3 MB/s\u001b[0m eta \u001b[36m0:00:00\u001b[0m\n",
            "\u001b[?25h  Preparing metadata (setup.py) ... \u001b[?25l\u001b[?25hdone\n",
            "Requirement already satisfied: PyYAML in /usr/local/lib/python3.10/dist-packages (from pyngrok) (6.0.1)\n",
            "Building wheels for collected packages: pyngrok\n",
            "  Building wheel for pyngrok (setup.py) ... \u001b[?25l\u001b[?25hdone\n",
            "  Created wheel for pyngrok: filename=pyngrok-7.0.0-py3-none-any.whl size=21129 sha256=7fcc21c8b8762768e26269600f6d69646cf54a33fa3e1f2bdc6ad0e48e2d365b\n",
            "  Stored in directory: /root/.cache/pip/wheels/60/29/7b/f64332aa7e5e88fbd56d4002185ae22dcdc83b35b3d1c2cbf5\n",
            "Successfully built pyngrok\n",
            "Installing collected packages: pyngrok\n",
            "Successfully installed pyngrok-7.0.0\n"
          ]
        }
      ]
    },
    {
      "cell_type": "code",
      "source": [
        "!./ngrok authtoken 2X9PpF2DqMesfWaMzGuOeMfHNxC_2W95ibFm3gAcfZbtJ2DCa"
      ],
      "metadata": {
        "colab": {
          "base_uri": "https://localhost:8080/"
        },
        "id": "V52Oe7nl_csP",
        "outputId": "ed03d32f-59ca-4c54-d8c4-93c880253a5a"
      },
      "execution_count": 49,
      "outputs": [
        {
          "output_type": "stream",
          "name": "stdout",
          "text": [
            "Authtoken saved to configuration file: /root/.ngrok2/ngrok.yml\n"
          ]
        }
      ]
    },
    {
      "cell_type": "code",
      "source": [
        "# 7551hxosxCMUhFXL2A18g_7WXBHeNkUZ1Sg9eSgM7Kd"
      ],
      "metadata": {
        "id": "2ybhGcRsEsG-"
      },
      "execution_count": 50,
      "outputs": []
    },
    {
      "cell_type": "markdown",
      "source": [
        "## 테스트"
      ],
      "metadata": {
        "id": "ZK1WVnh4-F_N"
      }
    },
    {
      "cell_type": "markdown",
      "source": [
        "처음 시작할 땐 sparksession을 만들어줘야한다."
      ],
      "metadata": {
        "id": "-BBWiNGoTD6g"
      }
    },
    {
      "cell_type": "code",
      "source": [
        "from pyspark.sql import SparkSession\n",
        "spark = SparkSession.builder.appName('mulCamp28').config('spark.ui.port','4050').getOrCreate()\n",
        "spark"
      ],
      "metadata": {
        "colab": {
          "base_uri": "https://localhost:8080/",
          "height": 222
        },
        "id": "vqhFC6Qj9hub",
        "outputId": "05f9f4e0-cd3f-4651-d6ea-e279a644b956"
      },
      "execution_count": 51,
      "outputs": [
        {
          "output_type": "execute_result",
          "data": {
            "text/plain": [
              "<pyspark.sql.session.SparkSession at 0x7bd638291ba0>"
            ],
            "text/html": [
              "\n",
              "            <div>\n",
              "                <p><b>SparkSession - in-memory</b></p>\n",
              "                \n",
              "        <div>\n",
              "            <p><b>SparkContext</b></p>\n",
              "\n",
              "            <p><a href=\"http://f4d090931962:4050\">Spark UI</a></p>\n",
              "\n",
              "            <dl>\n",
              "              <dt>Version</dt>\n",
              "                <dd><code>v3.1.1</code></dd>\n",
              "              <dt>Master</dt>\n",
              "                <dd><code>local[*]</code></dd>\n",
              "              <dt>AppName</dt>\n",
              "                <dd><code>mulCamp28</code></dd>\n",
              "            </dl>\n",
              "        </div>\n",
              "        \n",
              "            </div>\n",
              "        "
            ]
          },
          "metadata": {},
          "execution_count": 51
        }
      ]
    },
    {
      "cell_type": "code",
      "source": [
        "get_ipython().system_raw('./ngrok http 4050 &')\n",
        "!curl -s http://localhost:4040/api/tunnels"
      ],
      "metadata": {
        "id": "ng5Siphm_2RB",
        "colab": {
          "base_uri": "https://localhost:8080/"
        },
        "outputId": "6986ddc0-88a2-49c9-821e-919acc654033"
      },
      "execution_count": 52,
      "outputs": [
        {
          "output_type": "stream",
          "name": "stdout",
          "text": [
            "{\"tunnels\":[],\"uri\":\"/api/tunnels\"}\n"
          ]
        }
      ]
    },
    {
      "cell_type": "code",
      "source": [
        "!curl -s http://localhost:4040/api/tunnels | python3 -c \\\n",
        "    \"import sys, json; print(json.load(sys.stdin)['tunnels'][0]['public_url'])\""
      ],
      "metadata": {
        "colab": {
          "base_uri": "https://localhost:8080/"
        },
        "id": "n9mDLf9wEbll",
        "outputId": "04d40004-1b57-4c55-d6d7-c940e9fd37d1"
      },
      "execution_count": 53,
      "outputs": [
        {
          "output_type": "stream",
          "name": "stdout",
          "text": [
            "Traceback (most recent call last):\n",
            "  File \"<string>\", line 1, in <module>\n",
            "IndexError: list index out of range\n"
          ]
        }
      ]
    },
    {
      "cell_type": "markdown",
      "source": [
        "https://4c95-34-139-255-88.ngrok-free.app/jobs/"
      ],
      "metadata": {
        "id": "SobmCbG_Hz27"
      }
    },
    {
      "cell_type": "code",
      "source": [
        "strings = spark.read.text(\"/content/spark-3.1.1-bin-hadoop2.7/README.md\")\n",
        "print(strings)"
      ],
      "metadata": {
        "colab": {
          "base_uri": "https://localhost:8080/"
        },
        "id": "Nt2UPalTH-ja",
        "outputId": "1eda4d8a-c5f3-4fdf-dbbf-34a8ad71e904"
      },
      "execution_count": 54,
      "outputs": [
        {
          "output_type": "stream",
          "name": "stdout",
          "text": [
            "DataFrame[value: string]\n"
          ]
        }
      ]
    },
    {
      "cell_type": "code",
      "source": [
        "print(type(strings))"
      ],
      "metadata": {
        "colab": {
          "base_uri": "https://localhost:8080/"
        },
        "id": "xQPOmF_MH-mF",
        "outputId": "e4cf521c-8a91-492b-883c-6438b7d2ee82"
      },
      "execution_count": 55,
      "outputs": [
        {
          "output_type": "stream",
          "name": "stdout",
          "text": [
            "<class 'pyspark.sql.dataframe.DataFrame'>\n"
          ]
        }
      ]
    },
    {
      "cell_type": "code",
      "source": [
        "filtered = strings.filter(strings.value.contains(\"Spark\"))\n",
        "print(filtered)\n",
        "print(type(filtered))"
      ],
      "metadata": {
        "colab": {
          "base_uri": "https://localhost:8080/"
        },
        "id": "BJdUtYahH-pm",
        "outputId": "2f725b35-59c6-4ec3-c62e-b16326b8ac3b"
      },
      "execution_count": 56,
      "outputs": [
        {
          "output_type": "stream",
          "name": "stdout",
          "text": [
            "DataFrame[value: string]\n",
            "<class 'pyspark.sql.dataframe.DataFrame'>\n"
          ]
        }
      ]
    },
    {
      "cell_type": "code",
      "source": [
        "!ls"
      ],
      "metadata": {
        "colab": {
          "base_uri": "https://localhost:8080/"
        },
        "id": "9u1GarLZH-sQ",
        "outputId": "a38da757-b199-47cb-a00d-fa7b29f69370"
      },
      "execution_count": 57,
      "outputs": [
        {
          "output_type": "stream",
          "name": "stdout",
          "text": [
            "drive  ngrok-stable-linux-amd64.zip  spark-3.1.1-bin-hadoop2.7\n",
            "ngrok  sample_data\t\t     spark-3.1.1-bin-hadoop2.7.tgz\n"
          ]
        }
      ]
    },
    {
      "cell_type": "code",
      "source": [
        "# !cat spark-3.1.1-bin-hadoop2.7/README.md"
      ],
      "metadata": {
        "id": "cQ82MPFSH-vy"
      },
      "execution_count": 58,
      "outputs": []
    },
    {
      "cell_type": "code",
      "source": [
        "filtered.count()"
      ],
      "metadata": {
        "colab": {
          "base_uri": "https://localhost:8080/"
        },
        "id": "29CWssL_H-yR",
        "outputId": "82a08ac4-839f-405a-f163-b38ecf7d6bd0"
      },
      "execution_count": 59,
      "outputs": [
        {
          "output_type": "execute_result",
          "data": {
            "text/plain": [
              "19"
            ]
          },
          "metadata": {},
          "execution_count": 59
        }
      ]
    },
    {
      "cell_type": "markdown",
      "source": [
        "## CSV파일 불러오기\n",
        "- CSV 포맷으로 파일 읽어서 데이터프레임에 저장함\n",
        "- 스키마 추론, 쉼표로 구분된 컬럼 이름이 제공되는 헤더가 있음 지정"
      ],
      "metadata": {
        "id": "revedmi6NKfw"
      }
    },
    {
      "cell_type": "markdown",
      "source": [
        "교재"
      ],
      "metadata": {
        "id": "tN9-cJb8W4A9"
      }
    },
    {
      "cell_type": "code",
      "source": [
        "mnm_file = '/content/drive/MyDrive/멀티캠퍼스/spark/chapter02/mnm_dataset.csv'\n",
        "\n",
        "mnm_df = spark.read.format('csv').option(\"header\", \"true\").option(\"inferSchema\", \"true\").load(mnm_file)\n",
        "mnm_df.show(n=5, truncate=False) # show, pandas head()"
      ],
      "metadata": {
        "colab": {
          "base_uri": "https://localhost:8080/"
        },
        "id": "qH-EGleTH-1E",
        "outputId": "38be5a66-caf6-496c-e5d0-d495e15358cd"
      },
      "execution_count": 60,
      "outputs": [
        {
          "output_type": "stream",
          "name": "stdout",
          "text": [
            "+-----+------+-----+\n",
            "|State|Color |Count|\n",
            "+-----+------+-----+\n",
            "|TX   |Red   |20   |\n",
            "|NV   |Blue  |66   |\n",
            "|CO   |Blue  |79   |\n",
            "|OR   |Blue  |71   |\n",
            "|WA   |Yellow|93   |\n",
            "+-----+------+-----+\n",
            "only showing top 5 rows\n",
            "\n"
          ]
        }
      ]
    },
    {
      "cell_type": "markdown",
      "source": [
        "- GROUP BY State별, Color별 갯수를 요약해보자"
      ],
      "metadata": {
        "id": "zwH4I8xDPXHS"
      }
    },
    {
      "cell_type": "code",
      "source": [
        "count_mnm_df = mnm_df.select(\"State\",\"Color\",\"Count\").groupBy(\"State\",\"Color\").sum(\"Count\").orderBy(\"sum(Count)\", ascending=False)\n",
        "count_mnm_df.show(n = 10, truncate=False)"
      ],
      "metadata": {
        "colab": {
          "base_uri": "https://localhost:8080/"
        },
        "id": "G4fwCkCGH-43",
        "outputId": "94320c1e-fae5-4473-d827-6f287e02a34c"
      },
      "execution_count": 61,
      "outputs": [
        {
          "output_type": "stream",
          "name": "stdout",
          "text": [
            "+-----+------+----------+\n",
            "|State|Color |sum(Count)|\n",
            "+-----+------+----------+\n",
            "|CA   |Yellow|100956    |\n",
            "|WA   |Green |96486     |\n",
            "|CA   |Brown |95762     |\n",
            "|TX   |Green |95753     |\n",
            "|TX   |Red   |95404     |\n",
            "|CO   |Yellow|95038     |\n",
            "|NM   |Red   |94699     |\n",
            "|OR   |Orange|94514     |\n",
            "|WY   |Green |94339     |\n",
            "|NV   |Orange|93929     |\n",
            "+-----+------+----------+\n",
            "only showing top 10 rows\n",
            "\n"
          ]
        }
      ]
    },
    {
      "cell_type": "code",
      "source": [
        "count_mnm_df.count() # 행의 갯수"
      ],
      "metadata": {
        "colab": {
          "base_uri": "https://localhost:8080/"
        },
        "id": "K9XmBbkXPWfP",
        "outputId": "a6ed3112-c931-4aa9-cd5c-1e07a942c4e3"
      },
      "execution_count": 62,
      "outputs": [
        {
          "output_type": "execute_result",
          "data": {
            "text/plain": [
              "60"
            ]
          },
          "metadata": {},
          "execution_count": 62
        }
      ]
    },
    {
      "cell_type": "markdown",
      "source": [
        "- CA만 확인하자"
      ],
      "metadata": {
        "id": "DSNlruisRa_9"
      }
    },
    {
      "cell_type": "code",
      "source": [
        "ca_count_mnm_df = mnm_df.select('*')\\\n",
        "  .where(mnm_df.State == 'CA')\\\n",
        "  .groupBy(\"State\",\"Color\")\\\n",
        "  .sum(\"Count\")\\\n",
        "  .orderBy(\"sum(Count)\", ascending=False)\n",
        "\n",
        "ca_count_mnm_df.show()"
      ],
      "metadata": {
        "colab": {
          "base_uri": "https://localhost:8080/"
        },
        "id": "avHRDpysRdxX",
        "outputId": "61ea2d87-f487-4242-826d-cfadc7922272"
      },
      "execution_count": 63,
      "outputs": [
        {
          "output_type": "stream",
          "name": "stdout",
          "text": [
            "+-----+------+----------+\n",
            "|State| Color|sum(Count)|\n",
            "+-----+------+----------+\n",
            "|   CA|Yellow|    100956|\n",
            "|   CA| Brown|     95762|\n",
            "|   CA| Green|     93505|\n",
            "|   CA|   Red|     91527|\n",
            "|   CA|Orange|     90311|\n",
            "|   CA|  Blue|     89123|\n",
            "+-----+------+----------+\n",
            "\n"
          ]
        }
      ]
    },
    {
      "cell_type": "markdown",
      "source": [
        "## RDD 방식\n",
        "- parallelize를 많이 이용한다.\n",
        "- 튜플 형태로 들어간다.\n",
        "- lambda 형태를 이용해야한다."
      ],
      "metadata": {
        "id": "67lVGAn9Pwys"
      }
    },
    {
      "cell_type": "code",
      "source": [
        "sc = spark.sparkContext\n",
        "dataRDD = sc.parallelize([('Brooke', 20), ('Denny', 31), ('Jules', 30), ('TD', 35), ('Brooke', 25)])\n",
        "print(dataRDD)\n",
        "print(type(dataRDD))"
      ],
      "metadata": {
        "id": "LM8buIZJPWhr",
        "colab": {
          "base_uri": "https://localhost:8080/"
        },
        "outputId": "ac2fa9bd-329b-45f0-e0ed-3e9385b96d86"
      },
      "execution_count": 64,
      "outputs": [
        {
          "output_type": "stream",
          "name": "stdout",
          "text": [
            "ParallelCollectionRDD[126] at readRDDFromFile at PythonRDD.scala:274\n",
            "<class 'pyspark.rdd.RDD'>\n"
          ]
        }
      ]
    },
    {
      "cell_type": "markdown",
      "source": [
        "- 집계와 평균 : 문법이 난해함\n",
        "- RDD는 쓰면 안되겠다."
      ],
      "metadata": {
        "id": "kK4tUO_1cV_1"
      }
    },
    {
      "cell_type": "code",
      "source": [
        "agesRDD = (dataRDD\n",
        "           .map(lambda x:(x[0], (x[1], 1)))\n",
        "           .reduceByKey(lambda x, y:(x[0] + y[0], x[1] + y[1]))\n",
        "           .map(lambda x: (x[0], x[1][0]/x[1][1]))\n",
        "           )\n",
        "agesRDD"
      ],
      "metadata": {
        "id": "WBqwzFBwPWj9",
        "colab": {
          "base_uri": "https://localhost:8080/"
        },
        "outputId": "eaa1f1d3-9f61-404c-b0a7-b76efed209da"
      },
      "execution_count": 65,
      "outputs": [
        {
          "output_type": "execute_result",
          "data": {
            "text/plain": [
              "PythonRDD[131] at RDD at PythonRDD.scala:53"
            ]
          },
          "metadata": {},
          "execution_count": 65
        }
      ]
    },
    {
      "cell_type": "markdown",
      "source": [
        "## DataFrame 방식"
      ],
      "metadata": {
        "id": "xYOLAte2dl_1"
      }
    },
    {
      "cell_type": "code",
      "source": [
        "from pyspark.sql.functions import avg\n",
        "from pyspark.sql import SparkSession\n",
        "# spark = SparkSession.builder.appName('mulCamp28').config('spark.ui.port','4050').getOrCreate()\n",
        "\n",
        "data_df = spark.createDataFrame([('Brooke', 20), ('Denny', 31), ('Jules', 30), ('TD', 35), ('Brooke', 25)], ['name', 'age'])\n",
        "print(data_df)\n",
        "print(type(data_df))"
      ],
      "metadata": {
        "id": "APL4MES3PWly",
        "colab": {
          "base_uri": "https://localhost:8080/"
        },
        "outputId": "fcea10d2-bf17-45f2-c450-be698c1d885c"
      },
      "execution_count": 66,
      "outputs": [
        {
          "output_type": "stream",
          "name": "stdout",
          "text": [
            "DataFrame[name: string, age: bigint]\n",
            "<class 'pyspark.sql.dataframe.DataFrame'>\n"
          ]
        }
      ]
    },
    {
      "cell_type": "code",
      "source": [
        "data_df.show()"
      ],
      "metadata": {
        "colab": {
          "base_uri": "https://localhost:8080/"
        },
        "id": "6qpT7KdedlXQ",
        "outputId": "7ab3fed4-201d-48c0-ee2a-32f603481bdd"
      },
      "execution_count": 67,
      "outputs": [
        {
          "output_type": "stream",
          "name": "stdout",
          "text": [
            "+------+---+\n",
            "|  name|age|\n",
            "+------+---+\n",
            "|Brooke| 20|\n",
            "| Denny| 31|\n",
            "| Jules| 30|\n",
            "|    TD| 35|\n",
            "|Brooke| 25|\n",
            "+------+---+\n",
            "\n"
          ]
        }
      ]
    },
    {
      "cell_type": "code",
      "source": [
        "# 이름으로 그룹화 하여 평균 나이 계산\n",
        "avg_df = data_df.groupby('name').agg(avg('age'))\n",
        "avg_df.show()"
      ],
      "metadata": {
        "colab": {
          "base_uri": "https://localhost:8080/"
        },
        "id": "s8DMNa0xdlZq",
        "outputId": "23e02a8a-302d-49f1-f04d-b1355c7a988f"
      },
      "execution_count": 68,
      "outputs": [
        {
          "output_type": "stream",
          "name": "stdout",
          "text": [
            "+------+--------+\n",
            "|  name|avg(age)|\n",
            "+------+--------+\n",
            "|Brooke|    22.5|\n",
            "| Jules|    30.0|\n",
            "|    TD|    35.0|\n",
            "| Denny|    31.0|\n",
            "+------+--------+\n",
            "\n"
          ]
        }
      ]
    },
    {
      "cell_type": "markdown",
      "source": [
        "## 스키마 프로그래밍\n",
        "- 데이터를 생성할 때, SQL 비슷한 형식으로 데이터를 생성\n"
      ],
      "metadata": {
        "id": "n3V-yuvWe95P"
      }
    },
    {
      "cell_type": "code",
      "source": [
        "from pyspark.sql import SparkSession\n",
        "from pyspark.sql.types import * # * types 클래스 내부의 매서드를 모두 호출하겠다!\n",
        "from pyspark.sql.functions import *\n",
        "# spark = SparkSession.builder.appName('mulCamp28').config('spark.ui.port','4050').getOrCreate()\n",
        "\n",
        "schema = StructType([\n",
        "   StructField(\"Id\", IntegerType(), False), # SQL에서 테이블 생성과 유사\n",
        "   StructField(\"First\", StringType(), False),\n",
        "   StructField(\"Last\", StringType(), False),\n",
        "   StructField(\"Url\", StringType(), False),\n",
        "   StructField(\"Published\", StringType(), False),\n",
        "   StructField(\"Hits\", IntegerType(), False),\n",
        "   StructField(\"Campaigns\", ArrayType(StringType()), False)])\n",
        "\n",
        "#create our data\n",
        "data = [[1, \"Jules\", \"Damji\", \"https://tinyurl.1\", \"1/4/2016\", 4535, [\"twitter\", \"LinkedIn\"]],\n",
        "       [2, \"Brooke\",\"Wenig\",\"https://tinyurl.2\", \"5/5/2018\", 8908, [\"twitter\", \"LinkedIn\"]],\n",
        "       [3, \"Denny\", \"Lee\", \"https://tinyurl.3\",\"6/7/2019\",7659, [\"web\", \"twitter\", \"FB\", \"LinkedIn\"]],\n",
        "       [4, \"Tathagata\", \"Das\",\"https://tinyurl.4\", \"5/12/2018\", 10568, [\"twitter\", \"FB\"]],\n",
        "       [5, \"Matei\",\"Zaharia\", \"https://tinyurl.5\", \"5/14/2014\", 40578, [\"web\", \"twitter\", \"FB\", \"LinkedIn\"]],\n",
        "       [6, \"Reynold\", \"Xin\", \"https://tinyurl.6\", \"3/2/2015\", 25568, [\"twitter\", \"LinkedIn\"]]\n",
        "      ]\n",
        "\n",
        "blogs_df = spark.createDataFrame(data, schema)\n",
        "blogs_df.show()"
      ],
      "metadata": {
        "colab": {
          "base_uri": "https://localhost:8080/"
        },
        "id": "uyY_RByye9Sa",
        "outputId": "8036b594-ae3a-4167-81a7-fb05f369c990"
      },
      "execution_count": 69,
      "outputs": [
        {
          "output_type": "stream",
          "name": "stdout",
          "text": [
            "+---+---------+-------+-----------------+---------+-----+--------------------+\n",
            "| Id|    First|   Last|              Url|Published| Hits|           Campaigns|\n",
            "+---+---------+-------+-----------------+---------+-----+--------------------+\n",
            "|  1|    Jules|  Damji|https://tinyurl.1| 1/4/2016| 4535| [twitter, LinkedIn]|\n",
            "|  2|   Brooke|  Wenig|https://tinyurl.2| 5/5/2018| 8908| [twitter, LinkedIn]|\n",
            "|  3|    Denny|    Lee|https://tinyurl.3| 6/7/2019| 7659|[web, twitter, FB...|\n",
            "|  4|Tathagata|    Das|https://tinyurl.4|5/12/2018|10568|       [twitter, FB]|\n",
            "|  5|    Matei|Zaharia|https://tinyurl.5|5/14/2014|40578|[web, twitter, FB...|\n",
            "|  6|  Reynold|    Xin|https://tinyurl.6| 3/2/2015|25568| [twitter, LinkedIn]|\n",
            "+---+---------+-------+-----------------+---------+-----+--------------------+\n",
            "\n"
          ]
        }
      ]
    },
    {
      "cell_type": "code",
      "source": [
        "blogs_df.printSchema() # blogs_df.info()"
      ],
      "metadata": {
        "colab": {
          "base_uri": "https://localhost:8080/"
        },
        "id": "BsYmCB-se9Ue",
        "outputId": "a6d4a6e8-ae75-4f2c-9abc-94d21f4cdef1"
      },
      "execution_count": 70,
      "outputs": [
        {
          "output_type": "stream",
          "name": "stdout",
          "text": [
            "root\n",
            " |-- Id: integer (nullable = false)\n",
            " |-- First: string (nullable = false)\n",
            " |-- Last: string (nullable = false)\n",
            " |-- Url: string (nullable = false)\n",
            " |-- Published: string (nullable = false)\n",
            " |-- Hits: integer (nullable = false)\n",
            " |-- Campaigns: array (nullable = false)\n",
            " |    |-- element: string (containsNull = true)\n",
            "\n"
          ]
        }
      ]
    },
    {
      "cell_type": "markdown",
      "source": [
        "- 계산"
      ],
      "metadata": {
        "id": "urFr884DEniI"
      }
    },
    {
      "cell_type": "code",
      "source": [
        "blogs_df.select('Hits').show(2)"
      ],
      "metadata": {
        "colab": {
          "base_uri": "https://localhost:8080/"
        },
        "id": "nh0lFvzcFCT5",
        "outputId": "dcf79de2-1a73-4a2b-a400-cf37db33a0e5"
      },
      "execution_count": 72,
      "outputs": [
        {
          "output_type": "stream",
          "name": "stdout",
          "text": [
            "+----+\n",
            "|Hits|\n",
            "+----+\n",
            "|4535|\n",
            "|8908|\n",
            "+----+\n",
            "only showing top 2 rows\n",
            "\n"
          ]
        }
      ]
    },
    {
      "cell_type": "code",
      "source": [
        "blogs_df.select(expr('Hits')*2).show(2)"
      ],
      "metadata": {
        "colab": {
          "base_uri": "https://localhost:8080/"
        },
        "id": "7b43ejqvFCWe",
        "outputId": "071d087d-65b3-4b1b-a2db-1401f8b2c093"
      },
      "execution_count": 73,
      "outputs": [
        {
          "output_type": "stream",
          "name": "stdout",
          "text": [
            "+----------+\n",
            "|(Hits * 2)|\n",
            "+----------+\n",
            "|      9070|\n",
            "|     17816|\n",
            "+----------+\n",
            "only showing top 2 rows\n",
            "\n"
          ]
        }
      ]
    },
    {
      "cell_type": "code",
      "source": [
        "blogs_df.select(col('Hits')*2).show(2)"
      ],
      "metadata": {
        "colab": {
          "base_uri": "https://localhost:8080/"
        },
        "id": "IwXtX3GhFgmJ",
        "outputId": "742f99f5-a18d-490b-bf5c-7ea2569bafc6"
      },
      "execution_count": 74,
      "outputs": [
        {
          "output_type": "stream",
          "name": "stdout",
          "text": [
            "+----------+\n",
            "|(Hits * 2)|\n",
            "+----------+\n",
            "|      9070|\n",
            "|     17816|\n",
            "+----------+\n",
            "only showing top 2 rows\n",
            "\n"
          ]
        }
      ]
    },
    {
      "cell_type": "code",
      "source": [
        "blogs_df.select(expr('Hits*2')).show(2)"
      ],
      "metadata": {
        "colab": {
          "base_uri": "https://localhost:8080/"
        },
        "id": "lILdP5-oFlQa",
        "outputId": "c85b003e-b3a4-44d3-f681-9cbf68302157"
      },
      "execution_count": 75,
      "outputs": [
        {
          "output_type": "stream",
          "name": "stdout",
          "text": [
            "+----------+\n",
            "|(Hits * 2)|\n",
            "+----------+\n",
            "|      9070|\n",
            "|     17816|\n",
            "+----------+\n",
            "only showing top 2 rows\n",
            "\n"
          ]
        }
      ]
    },
    {
      "cell_type": "markdown",
      "source": [
        "- withColumn : 조건절 사용가능"
      ],
      "metadata": {
        "id": "Q7fWw7kkF5jh"
      }
    },
    {
      "cell_type": "code",
      "source": [
        "blogs_df.withColumn(\"Big Hitters\",(expr(\"Hits>10000\"))).show(5)"
      ],
      "metadata": {
        "colab": {
          "base_uri": "https://localhost:8080/"
        },
        "id": "hA5l2fuyF16V",
        "outputId": "dbf37855-28e1-472e-ac65-39c66b809d03"
      },
      "execution_count": 76,
      "outputs": [
        {
          "output_type": "stream",
          "name": "stdout",
          "text": [
            "+---+---------+-------+-----------------+---------+-----+--------------------+-----------+\n",
            "| Id|    First|   Last|              Url|Published| Hits|           Campaigns|Big Hitters|\n",
            "+---+---------+-------+-----------------+---------+-----+--------------------+-----------+\n",
            "|  1|    Jules|  Damji|https://tinyurl.1| 1/4/2016| 4535| [twitter, LinkedIn]|      false|\n",
            "|  2|   Brooke|  Wenig|https://tinyurl.2| 5/5/2018| 8908| [twitter, LinkedIn]|      false|\n",
            "|  3|    Denny|    Lee|https://tinyurl.3| 6/7/2019| 7659|[web, twitter, FB...|      false|\n",
            "|  4|Tathagata|    Das|https://tinyurl.4|5/12/2018|10568|       [twitter, FB]|       true|\n",
            "|  5|    Matei|Zaharia|https://tinyurl.5|5/14/2014|40578|[web, twitter, FB...|       true|\n",
            "+---+---------+-------+-----------------+---------+-----+--------------------+-----------+\n",
            "only showing top 5 rows\n",
            "\n"
          ]
        }
      ]
    },
    {
      "cell_type": "code",
      "source": [
        "print(blogs_df.schema)"
      ],
      "metadata": {
        "colab": {
          "base_uri": "https://localhost:8080/"
        },
        "id": "C_ZlcXreFlUY",
        "outputId": "8818f0ed-b9aa-4f58-b0a9-900ad16eb04a"
      },
      "execution_count": 77,
      "outputs": [
        {
          "output_type": "stream",
          "name": "stdout",
          "text": [
            "StructType(List(StructField(Id,IntegerType,false),StructField(First,StringType,false),StructField(Last,StringType,false),StructField(Url,StringType,false),StructField(Published,StringType,false),StructField(Hits,IntegerType,false),StructField(Campaigns,ArrayType(StringType,true),false)))\n"
          ]
        }
      ]
    },
    {
      "cell_type": "markdown",
      "source": [
        "## DDL 프로그래밍\n",
        "- SQL과 유사한 형태\n",
        "- 스키마를 정의할 때는 숫자 1 옆의 [ ` ]를 이용,  [`Id`, INT]"
      ],
      "metadata": {
        "id": "T_nR-KdlhTM_"
      }
    },
    {
      "cell_type": "code",
      "source": [
        "schema = \"`Id` INT, `First` STRING, `Last` STRING, `Url` STRING, `Published` STRING, `Hits` INT, `Campaings` ARRAY<STRING>\"\n",
        "\n",
        "#create our data\n",
        "data = [[1, \"Jules\", \"Damji\", \"https://tinyurl.1\", \"1/4/2016\", 4535, [\"twitter\", \"LinkedIn\"]],\n",
        "       [2, \"Brooke\",\"Wenig\",\"https://tinyurl.2\", \"5/5/2018\", 8908, [\"twitter\", \"LinkedIn\"]],\n",
        "       [3, \"Denny\", \"Lee\", \"https://tinyurl.3\",\"6/7/2019\",7659, [\"web\", \"twitter\", \"FB\", \"LinkedIn\"]],\n",
        "       [4, \"Tathagata\", \"Das\",\"https://tinyurl.4\", \"5/12/2018\", 10568, [\"twitter\", \"FB\"]],\n",
        "       [5, \"Matei\",\"Zaharia\", \"https://tinyurl.5\", \"5/14/2014\", 40578, [\"web\", \"twitter\", \"FB\", \"LinkedIn\"]],\n",
        "       [6, \"Reynold\", \"Xin\", \"https://tinyurl.6\", \"3/2/2015\", 25568, [\"twitter\", \"LinkedIn\"]]\n",
        "      ]\n",
        "\n",
        "blogs_df = spark.createDataFrame(data, schema)\n",
        "blogs_df.show()"
      ],
      "metadata": {
        "colab": {
          "base_uri": "https://localhost:8080/"
        },
        "id": "zM_Z8BebdlcN",
        "outputId": "592efb0e-f554-4cf8-a022-f8ee654b0a29"
      },
      "execution_count": 78,
      "outputs": [
        {
          "output_type": "stream",
          "name": "stdout",
          "text": [
            "+---+---------+-------+-----------------+---------+-----+--------------------+\n",
            "| Id|    First|   Last|              Url|Published| Hits|           Campaings|\n",
            "+---+---------+-------+-----------------+---------+-----+--------------------+\n",
            "|  1|    Jules|  Damji|https://tinyurl.1| 1/4/2016| 4535| [twitter, LinkedIn]|\n",
            "|  2|   Brooke|  Wenig|https://tinyurl.2| 5/5/2018| 8908| [twitter, LinkedIn]|\n",
            "|  3|    Denny|    Lee|https://tinyurl.3| 6/7/2019| 7659|[web, twitter, FB...|\n",
            "|  4|Tathagata|    Das|https://tinyurl.4|5/12/2018|10568|       [twitter, FB]|\n",
            "|  5|    Matei|Zaharia|https://tinyurl.5|5/14/2014|40578|[web, twitter, FB...|\n",
            "|  6|  Reynold|    Xin|https://tinyurl.6| 3/2/2015|25568| [twitter, LinkedIn]|\n",
            "+---+---------+-------+-----------------+---------+-----+--------------------+\n",
            "\n"
          ]
        }
      ]
    },
    {
      "cell_type": "markdown",
      "source": [
        "- 데이터 생성후, printSchema()"
      ],
      "metadata": {
        "id": "tGKpv3SJHtVA"
      }
    },
    {
      "cell_type": "code",
      "source": [
        "blogs_df.printSchema()"
      ],
      "metadata": {
        "colab": {
          "base_uri": "https://localhost:8080/"
        },
        "id": "p9g-mPbZEYdh",
        "outputId": "7c536260-8e72-4d5d-8256-d445efde3837"
      },
      "execution_count": 79,
      "outputs": [
        {
          "output_type": "stream",
          "name": "stdout",
          "text": [
            "root\n",
            " |-- Id: integer (nullable = true)\n",
            " |-- First: string (nullable = true)\n",
            " |-- Last: string (nullable = true)\n",
            " |-- Url: string (nullable = true)\n",
            " |-- Published: string (nullable = true)\n",
            " |-- Hits: integer (nullable = true)\n",
            " |-- Campaings: array (nullable = true)\n",
            " |    |-- element: string (containsNull = true)\n",
            "\n"
          ]
        }
      ]
    },
    {
      "cell_type": "markdown",
      "source": [
        "## View 테이블 생성"
      ],
      "metadata": {
        "id": "hG9oWV2bIBS2"
      }
    },
    {
      "cell_type": "code",
      "source": [
        "blogs_df.createOrReplaceTempView(\"blogs\")"
      ],
      "metadata": {
        "id": "aT8jkC9RFlWr"
      },
      "execution_count": 84,
      "outputs": []
    },
    {
      "cell_type": "markdown",
      "source": [
        "## 두 개의 컬럼 연산"
      ],
      "metadata": {
        "id": "QJF3VyOQItgl"
      }
    },
    {
      "cell_type": "code",
      "source": [
        "blogs_df.select(expr(\"Hits\")+expr(\"Id\")).show()"
      ],
      "metadata": {
        "colab": {
          "base_uri": "https://localhost:8080/"
        },
        "id": "QE785AQdEYgL",
        "outputId": "16e0c3c4-42a4-46f7-b602-fe8c12d56463"
      },
      "execution_count": 85,
      "outputs": [
        {
          "output_type": "stream",
          "name": "stdout",
          "text": [
            "+-----------+\n",
            "|(Hits + Id)|\n",
            "+-----------+\n",
            "|       4536|\n",
            "|       8910|\n",
            "|       7662|\n",
            "|      10572|\n",
            "|      40583|\n",
            "|      25574|\n",
            "+-----------+\n",
            "\n"
          ]
        }
      ]
    },
    {
      "cell_type": "markdown",
      "source": [
        "단순 추출 col, 계산을 해야겠다하면 expr"
      ],
      "metadata": {
        "id": "HGJfOKaDJMo8"
      }
    },
    {
      "cell_type": "code",
      "source": [
        "blogs_df.select(col(\"Id\"),col(\"Hits\"), expr(\"Hits\")+expr(\"Id\")).show()"
      ],
      "metadata": {
        "colab": {
          "base_uri": "https://localhost:8080/"
        },
        "id": "XN3HhFsQEYib",
        "outputId": "08cf41e2-56c5-4448-940f-b7e013a0fe1a"
      },
      "execution_count": 82,
      "outputs": [
        {
          "output_type": "stream",
          "name": "stdout",
          "text": [
            "+---+-----+-----------+\n",
            "| Id| Hits|(Hits + Id)|\n",
            "+---+-----+-----------+\n",
            "|  1| 4535|       4536|\n",
            "|  2| 8908|       8910|\n",
            "|  3| 7659|       7662|\n",
            "|  4|10568|      10572|\n",
            "|  5|40578|      40583|\n",
            "|  6|25568|      25574|\n",
            "+---+-----+-----------+\n",
            "\n"
          ]
        }
      ]
    },
    {
      "cell_type": "code",
      "source": [
        "blogs_df\\\n",
        "  .withColumn(\"Authorsld\", (concat(expr(\"First\"), expr(\"Last\"), expr(\"Id\"))))\\\n",
        "  .select(col(\"Authorsld\"))\\\n",
        "  .show()"
      ],
      "metadata": {
        "colab": {
          "base_uri": "https://localhost:8080/"
        },
        "id": "-w7wPOx0JhDv",
        "outputId": "2c324bb1-b7af-4f1b-ed6e-90193c1c8150"
      },
      "execution_count": 87,
      "outputs": [
        {
          "output_type": "stream",
          "name": "stdout",
          "text": [
            "+-------------+\n",
            "|    Authorsld|\n",
            "+-------------+\n",
            "|  JulesDamji1|\n",
            "| BrookeWenig2|\n",
            "|    DennyLee3|\n",
            "|TathagataDas4|\n",
            "|MateiZaharia5|\n",
            "|  ReynoldXin6|\n",
            "+-------------+\n",
            "\n"
          ]
        }
      ]
    },
    {
      "cell_type": "markdown",
      "source": [
        "## 정렬"
      ],
      "metadata": {
        "id": "QkkDJa3_Krdr"
      }
    },
    {
      "cell_type": "code",
      "source": [
        "blogs_df.sort(col(\"Id\").desc()).show()"
      ],
      "metadata": {
        "colab": {
          "base_uri": "https://localhost:8080/"
        },
        "id": "i3CTgPj4JhGX",
        "outputId": "ae017b33-d739-4f99-ab66-1cd7cf9e094e"
      },
      "execution_count": 88,
      "outputs": [
        {
          "output_type": "stream",
          "name": "stdout",
          "text": [
            "+---+---------+-------+-----------------+---------+-----+--------------------+\n",
            "| Id|    First|   Last|              Url|Published| Hits|           Campaings|\n",
            "+---+---------+-------+-----------------+---------+-----+--------------------+\n",
            "|  6|  Reynold|    Xin|https://tinyurl.6| 3/2/2015|25568| [twitter, LinkedIn]|\n",
            "|  5|    Matei|Zaharia|https://tinyurl.5|5/14/2014|40578|[web, twitter, FB...|\n",
            "|  4|Tathagata|    Das|https://tinyurl.4|5/12/2018|10568|       [twitter, FB]|\n",
            "|  3|    Denny|    Lee|https://tinyurl.3| 6/7/2019| 7659|[web, twitter, FB...|\n",
            "|  2|   Brooke|  Wenig|https://tinyurl.2| 5/5/2018| 8908| [twitter, LinkedIn]|\n",
            "|  1|    Jules|  Damji|https://tinyurl.1| 1/4/2016| 4535| [twitter, LinkedIn]|\n",
            "+---+---------+-------+-----------------+---------+-----+--------------------+\n",
            "\n"
          ]
        }
      ]
    },
    {
      "cell_type": "code",
      "source": [
        "blogs_df.sort(col(\"Id\").asc()).show()"
      ],
      "metadata": {
        "colab": {
          "base_uri": "https://localhost:8080/"
        },
        "id": "f9ZQmmuGKuus",
        "outputId": "bfe4bb30-ce63-4df4-af2f-87f516958bda"
      },
      "execution_count": 89,
      "outputs": [
        {
          "output_type": "stream",
          "name": "stdout",
          "text": [
            "+---+---------+-------+-----------------+---------+-----+--------------------+\n",
            "| Id|    First|   Last|              Url|Published| Hits|           Campaings|\n",
            "+---+---------+-------+-----------------+---------+-----+--------------------+\n",
            "|  1|    Jules|  Damji|https://tinyurl.1| 1/4/2016| 4535| [twitter, LinkedIn]|\n",
            "|  2|   Brooke|  Wenig|https://tinyurl.2| 5/5/2018| 8908| [twitter, LinkedIn]|\n",
            "|  3|    Denny|    Lee|https://tinyurl.3| 6/7/2019| 7659|[web, twitter, FB...|\n",
            "|  4|Tathagata|    Das|https://tinyurl.4|5/12/2018|10568|       [twitter, FB]|\n",
            "|  5|    Matei|Zaharia|https://tinyurl.5|5/14/2014|40578|[web, twitter, FB...|\n",
            "|  6|  Reynold|    Xin|https://tinyurl.6| 3/2/2015|25568| [twitter, LinkedIn]|\n",
            "+---+---------+-------+-----------------+---------+-----+--------------------+\n",
            "\n"
          ]
        }
      ]
    },
    {
      "cell_type": "markdown",
      "source": [
        "## Row\n",
        "- 하나의 행은 일반적으로 하나 이상의 컬럼을 갖고 있는 로우(row) 객체로 표현됨\n",
        "- 각 컬럼은 동일한 컬럼 타입일 수도 있고, 혹은 다른 타입일 수도 있음"
      ],
      "metadata": {
        "id": "0_yp_escLDgD"
      }
    },
    {
      "cell_type": "code",
      "source": [
        "from pyspark.sql import Row\n",
        "blog_row = Row(6, \"Reynold\", \"Xin\", \"https://tinyurl.6\", 255568, \"3/2/2015\", [\"twitter\", \"LinkedIn\"])\n",
        "blog_row[3]"
      ],
      "metadata": {
        "colab": {
          "base_uri": "https://localhost:8080/",
          "height": 36
        },
        "id": "V_OE7fTGJhIt",
        "outputId": "b843e4bf-e452-474b-c2ff-f75a988648ec"
      },
      "execution_count": 91,
      "outputs": [
        {
          "output_type": "execute_result",
          "data": {
            "text/plain": [
              "'https://tinyurl.6'"
            ],
            "application/vnd.google.colaboratory.intrinsic+json": {
              "type": "string"
            }
          },
          "metadata": {},
          "execution_count": 91
        }
      ]
    },
    {
      "cell_type": "markdown",
      "source": [
        "- Row 객체를 확인해서 데이터 프레임으로 만들어서 사용"
      ],
      "metadata": {
        "id": "tuIRN3E8LsLc"
      }
    },
    {
      "cell_type": "code",
      "source": [
        "rows = [Row(\"Evan\",\"서울\"), Row(\"Hong\",\"LA\")]\n",
        "authors_df = spark.createDataFrame(rows, [\"name\", \"location\"])\n",
        "authors_df.show()"
      ],
      "metadata": {
        "colab": {
          "base_uri": "https://localhost:8080/"
        },
        "id": "_WUusnGMJhLA",
        "outputId": "07742958-ffc5-4ded-b9fe-eee3e5c4996f"
      },
      "execution_count": 93,
      "outputs": [
        {
          "output_type": "stream",
          "name": "stdout",
          "text": [
            "+----+--------+\n",
            "|name|location|\n",
            "+----+--------+\n",
            "|Evan|    서울|\n",
            "|Hong|      LA|\n",
            "+----+--------+\n",
            "\n"
          ]
        }
      ]
    },
    {
      "cell_type": "markdown",
      "source": [
        "### 외부데이터 가져오기"
      ],
      "metadata": {
        "id": "SFsWUG5aMXfq"
      }
    },
    {
      "cell_type": "code",
      "source": [
        "from pyspark.sql import SparkSession\n",
        "from pyspark.sql.types import * # * types 클래스 내부의 매서드를 모두 호출하겠다!\n",
        "from pyspark.sql.functions import *\n",
        "# spark = SparkSession.builder.appName('mulCamp28').config('spark.ui.port','4050').getOrCreate()\n",
        "\n",
        "sf_fire_file=\"/content/drive/MyDrive/멀티캠퍼스/spark/chapter03/sf-fire-calls.csv\"\n",
        "fire_schema = StructType([StructField('CallNumber', IntegerType(), True),\n",
        "                     StructField('UnitID', StringType(), True),\n",
        "                     StructField('IncidentNumber', IntegerType(), True),\n",
        "                     StructField('CallType', StringType(), True),\n",
        "                     StructField('CallDate', StringType(), True),\n",
        "                     StructField('WatchDate', StringType(), True),\n",
        "                     StructField('CallFinalDisposition', StringType(), True),\n",
        "                     StructField('AvailableDtTm', StringType(), True),\n",
        "                     StructField('Address', StringType(), True),\n",
        "                     StructField('City', StringType(), True),\n",
        "                     StructField('Zipcode', IntegerType(), True),\n",
        "                     StructField('Battalion', StringType(), True),\n",
        "                     StructField('StationArea', StringType(), True),\n",
        "                     StructField('Box', StringType(), True),\n",
        "                     StructField('OriginalPriority', StringType(), True),\n",
        "                     StructField('Priority', StringType(), True),\n",
        "                     StructField('FinalPriority', IntegerType(), True),\n",
        "                     StructField('ALSUnit', BooleanType(), True),\n",
        "                     StructField('CallTypeGroup', StringType(), True),\n",
        "                     StructField('NumAlarms', IntegerType(), True),\n",
        "                     StructField('UnitType', StringType(), True),\n",
        "                     StructField('UnitSequenceInCallDispatch', IntegerType(), True),\n",
        "                     StructField('FirePreventionDistrict', StringType(), True),\n",
        "                     StructField('SupervisorDistrict', StringType(), True),\n",
        "                     StructField('Neighborhood', StringType(), True),\n",
        "                     StructField('Location', StringType(), True),\n",
        "                     StructField('RowID', StringType(), True),\n",
        "                     StructField('Delay', FloatType(), True)])"
      ],
      "metadata": {
        "id": "7CXrWslxJhMy"
      },
      "execution_count": 94,
      "outputs": []
    },
    {
      "cell_type": "code",
      "source": [
        "fireDF=spark.read.csv(sf_fire_file, header = True, schema=fire_schema)\n",
        "fireDF.show()"
      ],
      "metadata": {
        "colab": {
          "base_uri": "https://localhost:8080/"
        },
        "id": "h2KzXvUHJhPC",
        "outputId": "0ce2f819-f98b-430d-ea03-a51b21dd43e9"
      },
      "execution_count": 95,
      "outputs": [
        {
          "output_type": "stream",
          "name": "stdout",
          "text": [
            "+----------+------+--------------+----------------+----------+----------+--------------------+--------------------+--------------------+----+-------+---------+-----------+----+----------------+--------+-------------+-------+-------------+---------+--------------+--------------------------+----------------------+------------------+--------------------+--------------------+-------------+---------+\n",
            "|CallNumber|UnitID|IncidentNumber|        CallType|  CallDate| WatchDate|CallFinalDisposition|       AvailableDtTm|             Address|City|Zipcode|Battalion|StationArea| Box|OriginalPriority|Priority|FinalPriority|ALSUnit|CallTypeGroup|NumAlarms|      UnitType|UnitSequenceInCallDispatch|FirePreventionDistrict|SupervisorDistrict|        Neighborhood|            Location|        RowID|    Delay|\n",
            "+----------+------+--------------+----------------+----------+----------+--------------------+--------------------+--------------------+----+-------+---------+-----------+----+----------------+--------+-------------+-------+-------------+---------+--------------+--------------------------+----------------------+------------------+--------------------+--------------------+-------------+---------+\n",
            "|  20110016|   T13|       2003235|  Structure Fire|01/11/2002|01/10/2002|               Other|01/11/2002 01:51:...|2000 Block of CAL...|  SF|  94109|      B04|         38|3362|               3|       3|            3|  false|         null|        1|         TRUCK|                         2|                     4|                 5|     Pacific Heights|(37.7895840679362...|020110016-T13|     2.95|\n",
            "|  20110022|   M17|       2003241|Medical Incident|01/11/2002|01/10/2002|               Other|01/11/2002 03:01:...|0 Block of SILVER...|  SF|  94124|      B10|         42|6495|               3|       3|            3|   true|         null|        1|         MEDIC|                         1|                    10|                10|Bayview Hunters P...|(37.7337623673897...|020110022-M17|      4.7|\n",
            "|  20110023|   M41|       2003242|Medical Incident|01/11/2002|01/10/2002|               Other|01/11/2002 02:39:...|MARKET ST/MCALLIS...|  SF|  94102|      B03|         01|1455|               3|       3|            3|   true|         null|        1|         MEDIC|                         2|                     3|                 6|          Tenderloin|(37.7811772186856...|020110023-M41|2.4333334|\n",
            "|  20110032|   E11|       2003250|    Vehicle Fire|01/11/2002|01/10/2002|               Other|01/11/2002 04:16:...|APPLETON AV/MISSI...|  SF|  94110|      B06|         32|5626|               3|       3|            3|  false|         null|        1|        ENGINE|                         1|                     6|                 9|      Bernal Heights|(37.7388432849018...|020110032-E11|      1.5|\n",
            "|  20110043|   B04|       2003259|          Alarms|01/11/2002|01/10/2002|               Other|01/11/2002 06:01:...|1400 Block of SUT...|  SF|  94109|      B04|         03|3223|               3|       3|            3|  false|         null|        1|         CHIEF|                         2|                     4|                 2|    Western Addition|(37.7872890372638...|020110043-B04|3.4833333|\n",
            "|  20110072|   T08|       2003279|  Structure Fire|01/11/2002|01/11/2002|               Other|01/11/2002 08:03:...|  BEALE ST/FOLSOM ST|  SF|  94105|      B03|         35|2122|               3|       3|            3|  false|         null|        1|         TRUCK|                         2|                     3|                 6|Financial Distric...|(37.7886866619654...|020110072-T08|     1.75|\n",
            "|  20110125|   E33|       2003301|          Alarms|01/11/2002|01/11/2002|               Other|01/11/2002 09:46:...|0 Block of FARALL...|  SF|  94112|      B09|         33|8324|               3|       3|            3|  false|         null|        1|        ENGINE|                         2|                     9|                11|Oceanview/Merced/...|(37.7140353531157...|020110125-E33|2.7166667|\n",
            "|  20110130|   E36|       2003304|          Alarms|01/11/2002|01/11/2002|               Other|01/11/2002 09:58:...|600 Block of POLK ST|  SF|  94102|      B02|         03|3114|               3|       3|            3|  false|         null|        1|        ENGINE|                         1|                     2|                 6|          Tenderloin|(37.7826266328595...|020110130-E36|1.7833333|\n",
            "|  20110197|   E05|       2003343|Medical Incident|01/11/2002|01/11/2002|               Other|01/11/2002 12:06:...|1500 Block of WEB...|  SF|  94115|      B04|         05|3513|               3|       3|            3|  false|         null|        1|        ENGINE|                         1|                     4|                 5|           Japantown|(37.784958590666,...|020110197-E05|1.5166667|\n",
            "|  20110215|   E06|       2003348|Medical Incident|01/11/2002|01/11/2002|               Other|01/11/2002 01:08:...|DIAMOND ST/MARKET ST|  SF|  94114|      B05|         06|5415|               3|       3|            3|  false|         null|        1|        ENGINE|                         1|                     5|                 8| Castro/Upper Market|(37.7618954753708...|020110215-E06|2.7666667|\n",
            "|  20110274|   M07|       2003381|Medical Incident|01/11/2002|01/11/2002|               Other|01/11/2002 03:31:...|2700 Block of MIS...|  SF|  94110|      B06|         11|5525|               1|       1|            2|   true|         null|        1|         MEDIC|                         1|                     6|                 9|             Mission|(37.7530339738059...|020110274-M07|2.1833334|\n",
            "|  20110275|   T15|       2003382|  Structure Fire|01/11/2002|01/11/2002|               Other|01/11/2002 02:59:...|BRUNSWICK ST/GUTT...|  SF|  94112|      B09|         43|6218|               3|       3|            3|  false|         null|        1|         TRUCK|                         1|                     9|                11|           Excelsior|(37.7105545807996...|020110275-T15|      2.5|\n",
            "|  20110304|   E03|       2003399|Medical Incident|01/11/2002|01/11/2002|               Other|01/11/2002 04:22:...|1000 Block of SUT...|  SF|  94109|      B04|         03|1557|               3|       3|            3|  false|         null|        1|        ENGINE|                         1|                     4|                 3|            Nob Hill|(37.7881263034393...|020110304-E03|2.4166667|\n",
            "|  20110308|   E14|       2003403|Medical Incident|01/11/2002|01/11/2002|               Other|01/11/2002 04:18:...|100 Block of 21ST...|  SF|  94121|      B07|         14|7173|               3|       3|            3|  false|         null|        1|        ENGINE|                         1|                     7|                 1|      Outer Richmond|(37.7850084431077...|020110308-E14|     4.95|\n",
            "|  20110313|   B10|       2003408|  Structure Fire|01/11/2002|01/11/2002|               Other|01/11/2002 04:09:...|700 Block of CAPP ST|  SF|  94110|      B06|         07|5472|               3|       3|            3|  false|         null|        1|         CHIEF|                         6|                     6|                 9|             Mission|(37.7547064357942...|020110313-B10|1.4166666|\n",
            "|  20110313|    D3|       2003408|  Structure Fire|01/11/2002|01/11/2002|               Other|01/11/2002 04:09:...|700 Block of CAPP ST|  SF|  94110|      B06|         07|5472|               3|       3|            3|  false|         null|        1|         CHIEF|                         4|                     6|                 9|             Mission|(37.7547064357942...| 020110313-D3|2.5333333|\n",
            "|  20110313|   E32|       2003408|  Structure Fire|01/11/2002|01/11/2002|               Other|01/11/2002 04:09:...|700 Block of CAPP ST|  SF|  94110|      B06|         07|5472|               3|       3|            3|   true|         null|        1|        ENGINE|                         8|                     6|                 9|             Mission|(37.7547064357942...|020110313-E32|1.8833333|\n",
            "|  20110315|   RC2|       2003409|Medical Incident|01/11/2002|01/11/2002|               Other|01/11/2002 04:34:...|200 Block of LAGU...|  SF|  94116|      B08|         20|8635|               3|       3|            3|   true|         null|        1|RESCUE CAPTAIN|                         2|                     8|                 7|  West of Twin Peaks|(37.7501117393668...|020110315-RC2|     5.35|\n",
            "|  20110330|   E14|       2003417|Medical Incident|01/11/2002|01/11/2002|               Other|01/11/2002 04:51:...|BALBOA ST/PARK PR...|  SF|  94118|      B07|         31|7145|               3|       3|            3|  false|         null|        1|        ENGINE|                         1|                     7|                 1|      Inner Richmond|(37.7768682293368...|020110330-E14|      2.0|\n",
            "|  20110330|   M12|       2003417|Medical Incident|01/11/2002|01/11/2002|               Other|01/11/2002 04:51:...|BALBOA ST/PARK PR...|  SF|  94118|      B07|         31|7145|               3|       3|            3|   true|         null|        1|         MEDIC|                         2|                     7|                 1|      Inner Richmond|(37.7768682293368...|020110330-M12|1.8166667|\n",
            "+----------+------+--------------+----------------+----------+----------+--------------------+--------------------+--------------------+----+-------+---------+-----------+----+----------------+--------+-------------+-------+-------------+---------+--------------+--------------------------+----------------------+------------------+--------------------+--------------------+-------------+---------+\n",
            "only showing top 20 rows\n",
            "\n"
          ]
        }
      ]
    },
    {
      "cell_type": "markdown",
      "source": [
        "- 데이터 프레임을 캐시함\n",
        "- 캐시란? : RDD의 계산 결과를 메모리에 저장,(action과 같이 최종적인 프로그램 수행을 하지 않는 한은 사라지지 않는다. Lazy Transformaion, )"
      ],
      "metadata": {
        "id": "Ca3zBJYZR1S0"
      }
    },
    {
      "cell_type": "code",
      "source": [
        "fireDF.cache()"
      ],
      "metadata": {
        "colab": {
          "base_uri": "https://localhost:8080/"
        },
        "id": "arG8aZH1JhRH",
        "outputId": "1ec973b0-26cc-486b-fb47-21280213c75e"
      },
      "execution_count": 96,
      "outputs": [
        {
          "output_type": "execute_result",
          "data": {
            "text/plain": [
              "DataFrame[CallNumber: int, UnitID: string, IncidentNumber: int, CallType: string, CallDate: string, WatchDate: string, CallFinalDisposition: string, AvailableDtTm: string, Address: string, City: string, Zipcode: int, Battalion: string, StationArea: string, Box: string, OriginalPriority: string, Priority: string, FinalPriority: int, ALSUnit: boolean, CallTypeGroup: string, NumAlarms: int, UnitType: string, UnitSequenceInCallDispatch: int, FirePreventionDistrict: string, SupervisorDistrict: string, Neighborhood: string, Location: string, RowID: string, Delay: float]"
            ]
          },
          "metadata": {},
          "execution_count": 96
        }
      ]
    },
    {
      "cell_type": "code",
      "source": [
        "fireDF.count()"
      ],
      "metadata": {
        "colab": {
          "base_uri": "https://localhost:8080/"
        },
        "id": "PJ4Ew01SJhUu",
        "outputId": "35a8b344-a985-4fbd-880b-5fe91d3c5947"
      },
      "execution_count": 97,
      "outputs": [
        {
          "output_type": "execute_result",
          "data": {
            "text/plain": [
              "175296"
            ]
          },
          "metadata": {},
          "execution_count": 97
        }
      ]
    },
    {
      "cell_type": "markdown",
      "source": [
        "- 조건에 의한 행 추출 진행"
      ],
      "metadata": {
        "id": "W_IwkjAzS7M_"
      }
    },
    {
      "cell_type": "code",
      "source": [
        "few_fireDF = fireDF\\\n",
        "  .select(\"IncidentNumber\", \"AvailableDtTm\", \"CallType\")\\\n",
        "  .where(col(\"CallType\") !=\"Medical Incident\")  # sql의 where구문과 비슷\n",
        "\n",
        "few_fireDF.show(5, truncate=False)"
      ],
      "metadata": {
        "colab": {
          "base_uri": "https://localhost:8080/"
        },
        "id": "V932LOOCJhW3",
        "outputId": "259e5043-6743-4ea4-83ec-1e94dda6d327"
      },
      "execution_count": 98,
      "outputs": [
        {
          "output_type": "stream",
          "name": "stdout",
          "text": [
            "+--------------+----------------------+--------------+\n",
            "|IncidentNumber|AvailableDtTm         |CallType      |\n",
            "+--------------+----------------------+--------------+\n",
            "|2003235       |01/11/2002 01:51:44 AM|Structure Fire|\n",
            "|2003250       |01/11/2002 04:16:46 AM|Vehicle Fire  |\n",
            "|2003259       |01/11/2002 06:01:58 AM|Alarms        |\n",
            "|2003279       |01/11/2002 08:03:26 AM|Structure Fire|\n",
            "|2003301       |01/11/2002 09:46:44 AM|Alarms        |\n",
            "+--------------+----------------------+--------------+\n",
            "only showing top 5 rows\n",
            "\n"
          ]
        }
      ]
    },
    {
      "cell_type": "markdown",
      "source": [
        "- 화재 신고로 기록된 CallType 종류가 궁금하다!!"
      ],
      "metadata": {
        "id": "mCZ7XQYYUIMQ"
      }
    },
    {
      "cell_type": "code",
      "source": [
        "fireDF\\\n",
        "  .select(\"CallType\")\\\n",
        "  .where(col(\"CallType\").isNotNull())\\\n",
        "  .agg(countDistinct(\"CallType\").alias(\"CNT_CallType\"))\\\n",
        "  .show()"
      ],
      "metadata": {
        "colab": {
          "base_uri": "https://localhost:8080/"
        },
        "id": "VxAxxciJS6eN",
        "outputId": "0740979b-c63b-4868-8636-44251af036c1"
      },
      "execution_count": 99,
      "outputs": [
        {
          "output_type": "stream",
          "name": "stdout",
          "text": [
            "+------------+\n",
            "|CNT_CallType|\n",
            "+------------+\n",
            "|          30|\n",
            "+------------+\n",
            "\n"
          ]
        }
      ]
    },
    {
      "cell_type": "markdown",
      "source": [
        "- NULL이 아닌 신고 타입의 목록 확인"
      ],
      "metadata": {
        "id": "qXcqiFriVIe-"
      }
    },
    {
      "cell_type": "code",
      "source": [
        "fireDF\\\n",
        "  .select(\"CallType\")\\\n",
        "  .where(col(\"CallType\").isNotNull())\\\n",
        "  .distinct()\\\n",
        "  .show(10, False)"
      ],
      "metadata": {
        "colab": {
          "base_uri": "https://localhost:8080/"
        },
        "id": "K3o184QVS6gT",
        "outputId": "e67f04e1-e142-47be-da2c-dbbe8b93ee93"
      },
      "execution_count": 101,
      "outputs": [
        {
          "output_type": "stream",
          "name": "stdout",
          "text": [
            "+-----------------------------------+\n",
            "|CallType                           |\n",
            "+-----------------------------------+\n",
            "|Elevator / Escalator Rescue        |\n",
            "|Marine Fire                        |\n",
            "|Aircraft Emergency                 |\n",
            "|Confined Space / Structure Collapse|\n",
            "|Administrative                     |\n",
            "|Alarms                             |\n",
            "|Odor (Strange / Unknown)           |\n",
            "|Citizen Assist / Service Call      |\n",
            "|HazMat                             |\n",
            "|Watercraft in Distress             |\n",
            "+-----------------------------------+\n",
            "only showing top 10 rows\n",
            "\n"
          ]
        }
      ]
    },
    {
      "cell_type": "markdown",
      "source": [
        "### 컬럼의 이름 변경 및 추가 삭제\n",
        "- 컬럼 이름 지정\n",
        "  + withColumnRenamed() 함수"
      ],
      "metadata": {
        "id": "HQfd2LzDXw1Q"
      }
    },
    {
      "cell_type": "code",
      "source": [
        "fireDF.printSchema()"
      ],
      "metadata": {
        "colab": {
          "base_uri": "https://localhost:8080/"
        },
        "id": "aPuffzYmYSni",
        "outputId": "d8304912-3284-4fc1-c8d6-96d255ea9fe9"
      },
      "execution_count": 106,
      "outputs": [
        {
          "output_type": "stream",
          "name": "stdout",
          "text": [
            "root\n",
            " |-- CallNumber: integer (nullable = true)\n",
            " |-- UnitID: string (nullable = true)\n",
            " |-- IncidentNumber: integer (nullable = true)\n",
            " |-- CallType: string (nullable = true)\n",
            " |-- CallDate: string (nullable = true)\n",
            " |-- WatchDate: string (nullable = true)\n",
            " |-- CallFinalDisposition: string (nullable = true)\n",
            " |-- AvailableDtTm: string (nullable = true)\n",
            " |-- Address: string (nullable = true)\n",
            " |-- City: string (nullable = true)\n",
            " |-- Zipcode: integer (nullable = true)\n",
            " |-- Battalion: string (nullable = true)\n",
            " |-- StationArea: string (nullable = true)\n",
            " |-- Box: string (nullable = true)\n",
            " |-- OriginalPriority: string (nullable = true)\n",
            " |-- Priority: string (nullable = true)\n",
            " |-- FinalPriority: integer (nullable = true)\n",
            " |-- ALSUnit: boolean (nullable = true)\n",
            " |-- CallTypeGroup: string (nullable = true)\n",
            " |-- NumAlarms: integer (nullable = true)\n",
            " |-- UnitType: string (nullable = true)\n",
            " |-- UnitSequenceInCallDispatch: integer (nullable = true)\n",
            " |-- FirePreventionDistrict: string (nullable = true)\n",
            " |-- SupervisorDistrict: string (nullable = true)\n",
            " |-- Neighborhood: string (nullable = true)\n",
            " |-- Location: string (nullable = true)\n",
            " |-- RowID: string (nullable = true)\n",
            " |-- Delay: float (nullable = true)\n",
            "\n"
          ]
        }
      ]
    },
    {
      "cell_type": "code",
      "source": [
        "new_fire_df = fireDF.withColumnRenamed(\"Delay\", \"ResponseDelayedinMins\") # ResponseDelayedinMins : 새로운 컬럼명\n",
        "new_fire_df.select(\"ResponseDelayedinMins\").where(col(\"ResponseDelayedinMins\")>10).show(5,False)"
      ],
      "metadata": {
        "colab": {
          "base_uri": "https://localhost:8080/"
        },
        "id": "3MU7ge7aS6ij",
        "outputId": "fb7adcdf-9dee-466f-d991-06ed2ed2f1b0"
      },
      "execution_count": 107,
      "outputs": [
        {
          "output_type": "stream",
          "name": "stdout",
          "text": [
            "+---------------------+\n",
            "|ResponseDelayedinMins|\n",
            "+---------------------+\n",
            "|11.916667            |\n",
            "|95.28333             |\n",
            "|13.55                |\n",
            "|13.583333            |\n",
            "|13.4                 |\n",
            "+---------------------+\n",
            "only showing top 5 rows\n",
            "\n"
          ]
        }
      ]
    },
    {
      "cell_type": "markdown",
      "source": [
        "## 날짜 데이터 타입 변환\n",
        "- 문자열에서 TimeStamp 타입으로 변환"
      ],
      "metadata": {
        "id": "6d_B_D26ZDgB"
      }
    },
    {
      "cell_type": "code",
      "source": [
        "fire_ts_df = (new_fire_df\n",
        "              .withColumn(\"IncidentDate\", to_timestamp(col(\"CallDate\"), \"MM/dd/yyyy\")).drop(\"CallDate\")\n",
        "              .withColumn(\"OnWatchDate\",   to_timestamp(col(\"WatchDate\"), \"MM/dd/yyyy\")).drop(\"WatchDate\")\n",
        "              .withColumn(\"AvailableDtTS\", to_timestamp(col(\"AvailableDtTm\"), \"MM/dd/yyyy hh:mm:ss a\")).drop(\"AvailableDtTm\"))\n",
        "fire_ts_df.show()"
      ],
      "metadata": {
        "colab": {
          "base_uri": "https://localhost:8080/"
        },
        "id": "mKU9MzHAS6km",
        "outputId": "49812d12-e49b-436a-a777-28482ac136d9"
      },
      "execution_count": 108,
      "outputs": [
        {
          "output_type": "stream",
          "name": "stdout",
          "text": [
            "+----------+------+--------------+----------------+--------------------+--------------------+----+-------+---------+-----------+----+----------------+--------+-------------+-------+-------------+---------+--------------+--------------------------+----------------------+------------------+--------------------+--------------------+-------------+---------------------+-------------------+-------------------+-------------------+\n",
            "|CallNumber|UnitID|IncidentNumber|        CallType|CallFinalDisposition|             Address|City|Zipcode|Battalion|StationArea| Box|OriginalPriority|Priority|FinalPriority|ALSUnit|CallTypeGroup|NumAlarms|      UnitType|UnitSequenceInCallDispatch|FirePreventionDistrict|SupervisorDistrict|        Neighborhood|            Location|        RowID|ResponseDelayedinMins|       IncidentDate|        OnWatchDate|      AvailableDtTS|\n",
            "+----------+------+--------------+----------------+--------------------+--------------------+----+-------+---------+-----------+----+----------------+--------+-------------+-------+-------------+---------+--------------+--------------------------+----------------------+------------------+--------------------+--------------------+-------------+---------------------+-------------------+-------------------+-------------------+\n",
            "|  20110016|   T13|       2003235|  Structure Fire|               Other|2000 Block of CAL...|  SF|  94109|      B04|         38|3362|               3|       3|            3|  false|         null|        1|         TRUCK|                         2|                     4|                 5|     Pacific Heights|(37.7895840679362...|020110016-T13|                 2.95|2002-01-11 00:00:00|2002-01-10 00:00:00|2002-01-11 01:51:44|\n",
            "|  20110022|   M17|       2003241|Medical Incident|               Other|0 Block of SILVER...|  SF|  94124|      B10|         42|6495|               3|       3|            3|   true|         null|        1|         MEDIC|                         1|                    10|                10|Bayview Hunters P...|(37.7337623673897...|020110022-M17|                  4.7|2002-01-11 00:00:00|2002-01-10 00:00:00|2002-01-11 03:01:18|\n",
            "|  20110023|   M41|       2003242|Medical Incident|               Other|MARKET ST/MCALLIS...|  SF|  94102|      B03|         01|1455|               3|       3|            3|   true|         null|        1|         MEDIC|                         2|                     3|                 6|          Tenderloin|(37.7811772186856...|020110023-M41|            2.4333334|2002-01-11 00:00:00|2002-01-10 00:00:00|2002-01-11 02:39:50|\n",
            "|  20110032|   E11|       2003250|    Vehicle Fire|               Other|APPLETON AV/MISSI...|  SF|  94110|      B06|         32|5626|               3|       3|            3|  false|         null|        1|        ENGINE|                         1|                     6|                 9|      Bernal Heights|(37.7388432849018...|020110032-E11|                  1.5|2002-01-11 00:00:00|2002-01-10 00:00:00|2002-01-11 04:16:46|\n",
            "|  20110043|   B04|       2003259|          Alarms|               Other|1400 Block of SUT...|  SF|  94109|      B04|         03|3223|               3|       3|            3|  false|         null|        1|         CHIEF|                         2|                     4|                 2|    Western Addition|(37.7872890372638...|020110043-B04|            3.4833333|2002-01-11 00:00:00|2002-01-10 00:00:00|2002-01-11 06:01:58|\n",
            "|  20110072|   T08|       2003279|  Structure Fire|               Other|  BEALE ST/FOLSOM ST|  SF|  94105|      B03|         35|2122|               3|       3|            3|  false|         null|        1|         TRUCK|                         2|                     3|                 6|Financial Distric...|(37.7886866619654...|020110072-T08|                 1.75|2002-01-11 00:00:00|2002-01-11 00:00:00|2002-01-11 08:03:26|\n",
            "|  20110125|   E33|       2003301|          Alarms|               Other|0 Block of FARALL...|  SF|  94112|      B09|         33|8324|               3|       3|            3|  false|         null|        1|        ENGINE|                         2|                     9|                11|Oceanview/Merced/...|(37.7140353531157...|020110125-E33|            2.7166667|2002-01-11 00:00:00|2002-01-11 00:00:00|2002-01-11 09:46:44|\n",
            "|  20110130|   E36|       2003304|          Alarms|               Other|600 Block of POLK ST|  SF|  94102|      B02|         03|3114|               3|       3|            3|  false|         null|        1|        ENGINE|                         1|                     2|                 6|          Tenderloin|(37.7826266328595...|020110130-E36|            1.7833333|2002-01-11 00:00:00|2002-01-11 00:00:00|2002-01-11 09:58:53|\n",
            "|  20110197|   E05|       2003343|Medical Incident|               Other|1500 Block of WEB...|  SF|  94115|      B04|         05|3513|               3|       3|            3|  false|         null|        1|        ENGINE|                         1|                     4|                 5|           Japantown|(37.784958590666,...|020110197-E05|            1.5166667|2002-01-11 00:00:00|2002-01-11 00:00:00|2002-01-11 12:06:57|\n",
            "|  20110215|   E06|       2003348|Medical Incident|               Other|DIAMOND ST/MARKET ST|  SF|  94114|      B05|         06|5415|               3|       3|            3|  false|         null|        1|        ENGINE|                         1|                     5|                 8| Castro/Upper Market|(37.7618954753708...|020110215-E06|            2.7666667|2002-01-11 00:00:00|2002-01-11 00:00:00|2002-01-11 13:08:40|\n",
            "|  20110274|   M07|       2003381|Medical Incident|               Other|2700 Block of MIS...|  SF|  94110|      B06|         11|5525|               1|       1|            2|   true|         null|        1|         MEDIC|                         1|                     6|                 9|             Mission|(37.7530339738059...|020110274-M07|            2.1833334|2002-01-11 00:00:00|2002-01-11 00:00:00|2002-01-11 15:31:02|\n",
            "|  20110275|   T15|       2003382|  Structure Fire|               Other|BRUNSWICK ST/GUTT...|  SF|  94112|      B09|         43|6218|               3|       3|            3|  false|         null|        1|         TRUCK|                         1|                     9|                11|           Excelsior|(37.7105545807996...|020110275-T15|                  2.5|2002-01-11 00:00:00|2002-01-11 00:00:00|2002-01-11 14:59:04|\n",
            "|  20110304|   E03|       2003399|Medical Incident|               Other|1000 Block of SUT...|  SF|  94109|      B04|         03|1557|               3|       3|            3|  false|         null|        1|        ENGINE|                         1|                     4|                 3|            Nob Hill|(37.7881263034393...|020110304-E03|            2.4166667|2002-01-11 00:00:00|2002-01-11 00:00:00|2002-01-11 16:22:49|\n",
            "|  20110308|   E14|       2003403|Medical Incident|               Other|100 Block of 21ST...|  SF|  94121|      B07|         14|7173|               3|       3|            3|  false|         null|        1|        ENGINE|                         1|                     7|                 1|      Outer Richmond|(37.7850084431077...|020110308-E14|                 4.95|2002-01-11 00:00:00|2002-01-11 00:00:00|2002-01-11 16:18:33|\n",
            "|  20110313|   B10|       2003408|  Structure Fire|               Other|700 Block of CAPP ST|  SF|  94110|      B06|         07|5472|               3|       3|            3|  false|         null|        1|         CHIEF|                         6|                     6|                 9|             Mission|(37.7547064357942...|020110313-B10|            1.4166666|2002-01-11 00:00:00|2002-01-11 00:00:00|2002-01-11 16:09:08|\n",
            "|  20110313|    D3|       2003408|  Structure Fire|               Other|700 Block of CAPP ST|  SF|  94110|      B06|         07|5472|               3|       3|            3|  false|         null|        1|         CHIEF|                         4|                     6|                 9|             Mission|(37.7547064357942...| 020110313-D3|            2.5333333|2002-01-11 00:00:00|2002-01-11 00:00:00|2002-01-11 16:09:08|\n",
            "|  20110313|   E32|       2003408|  Structure Fire|               Other|700 Block of CAPP ST|  SF|  94110|      B06|         07|5472|               3|       3|            3|   true|         null|        1|        ENGINE|                         8|                     6|                 9|             Mission|(37.7547064357942...|020110313-E32|            1.8833333|2002-01-11 00:00:00|2002-01-11 00:00:00|2002-01-11 16:09:08|\n",
            "|  20110315|   RC2|       2003409|Medical Incident|               Other|200 Block of LAGU...|  SF|  94116|      B08|         20|8635|               3|       3|            3|   true|         null|        1|RESCUE CAPTAIN|                         2|                     8|                 7|  West of Twin Peaks|(37.7501117393668...|020110315-RC2|                 5.35|2002-01-11 00:00:00|2002-01-11 00:00:00|2002-01-11 16:34:23|\n",
            "|  20110330|   E14|       2003417|Medical Incident|               Other|BALBOA ST/PARK PR...|  SF|  94118|      B07|         31|7145|               3|       3|            3|  false|         null|        1|        ENGINE|                         1|                     7|                 1|      Inner Richmond|(37.7768682293368...|020110330-E14|                  2.0|2002-01-11 00:00:00|2002-01-11 00:00:00|2002-01-11 16:51:31|\n",
            "|  20110330|   M12|       2003417|Medical Incident|               Other|BALBOA ST/PARK PR...|  SF|  94118|      B07|         31|7145|               3|       3|            3|   true|         null|        1|         MEDIC|                         2|                     7|                 1|      Inner Richmond|(37.7768682293368...|020110330-M12|            1.8166667|2002-01-11 00:00:00|2002-01-11 00:00:00|2002-01-11 16:51:12|\n",
            "+----------+------+--------------+----------------+--------------------+--------------------+----+-------+---------+-----------+----+----------------+--------+-------------+-------+-------------+---------+--------------+--------------------------+----------------------+------------------+--------------------+--------------------+-------------+---------------------+-------------------+-------------------+-------------------+\n",
            "only showing top 20 rows\n",
            "\n"
          ]
        }
      ]
    },
    {
      "cell_type": "markdown",
      "source": [
        "새로운 컬럼명 추가 후, 기존 컬럼 삭제"
      ],
      "metadata": {
        "id": "NzWB-clzZp_w"
      }
    },
    {
      "cell_type": "code",
      "source": [
        "# fire_ts_df.printSchema()\n",
        "print(type(fire_ts_df.columns))"
      ],
      "metadata": {
        "colab": {
          "base_uri": "https://localhost:8080/"
        },
        "id": "j5elXcbgS6mp",
        "outputId": "deba0111-6cb3-4104-f995-636ceaff9706"
      },
      "execution_count": 113,
      "outputs": [
        {
          "output_type": "stream",
          "name": "stdout",
          "text": [
            "<class 'list'>\n"
          ]
        }
      ]
    },
    {
      "cell_type": "markdown",
      "source": [
        "- 문제 SF zip codes 출력, 94102 or 94103\n",
        "- or 연산자 확인\n",
        "\n"
      ],
      "metadata": {
        "id": "5ReYZ86PffEZ"
      }
    },
    {
      "cell_type": "code",
      "source": [
        "fire_ts_df\\\n",
        "  .select(\"Neighborhood\",\"Zipcode\")\\\n",
        "  .where((col(\"Zipcode\")==94102) | (col(\"Zipcode\")==94103))\\\n",
        "  .distinct()\\\n",
        "  .show(10, truncate=False)"
      ],
      "metadata": {
        "colab": {
          "base_uri": "https://localhost:8080/"
        },
        "id": "4-hlwFo4S6o3",
        "outputId": "6e2c66a0-ea20-414d-e972-68e7ac18cfc7"
      },
      "execution_count": 116,
      "outputs": [
        {
          "output_type": "stream",
          "name": "stdout",
          "text": [
            "+------------------------------+-------+\n",
            "|Neighborhood                  |Zipcode|\n",
            "+------------------------------+-------+\n",
            "|Potrero Hill                  |94103  |\n",
            "|Western Addition              |94102  |\n",
            "|Tenderloin                    |94102  |\n",
            "|Nob Hill                      |94102  |\n",
            "|Castro/Upper Market           |94103  |\n",
            "|South of Market               |94102  |\n",
            "|South of Market               |94103  |\n",
            "|Hayes Valley                  |94103  |\n",
            "|Financial District/South Beach|94102  |\n",
            "|Mission Bay                   |94103  |\n",
            "+------------------------------+-------+\n",
            "only showing top 10 rows\n",
            "\n"
          ]
        }
      ]
    },
    {
      "cell_type": "markdown",
      "source": [
        "- SF 2018년도 가장 응답시간이 길었던 것 확인\n",
        "- filter()"
      ],
      "metadata": {
        "id": "rAhrV-LLgfR6"
      }
    },
    {
      "cell_type": "code",
      "source": [
        "fire_ts_df\\\n",
        "  .select(\"Neighborhood\", \"ResponseDelayedinMins\")\\\n",
        "  .filter(year(\"IncidentDate\")==2018)\\\n",
        "  .orderBy(\"ResponseDelayedinMins\", ascending=False)\\\n",
        "  .show()"
      ],
      "metadata": {
        "colab": {
          "base_uri": "https://localhost:8080/"
        },
        "id": "lxqdiF4jS6qf",
        "outputId": "7c0059ed-fd83-48f1-a96c-a5e6e98e6aad"
      },
      "execution_count": 120,
      "outputs": [
        {
          "output_type": "stream",
          "name": "stdout",
          "text": [
            "+--------------------+---------------------+\n",
            "|        Neighborhood|ResponseDelayedinMins|\n",
            "+--------------------+---------------------+\n",
            "|           Chinatown|            491.26666|\n",
            "|Financial Distric...|            406.63333|\n",
            "|          Tenderloin|            340.48334|\n",
            "|      Haight Ashbury|            175.86667|\n",
            "|Bayview Hunters P...|                155.8|\n",
            "|Financial Distric...|            135.51666|\n",
            "|     Pacific Heights|            129.01666|\n",
            "|        Potrero Hill|                109.8|\n",
            "|        Inner Sunset|            106.13333|\n",
            "|     South of Market|             94.71667|\n",
            "|Bayview Hunters P...|            92.816666|\n",
            "|     South of Market|            91.666664|\n",
            "|      Inner Richmond|            90.433334|\n",
            "|           Excelsior|             83.76667|\n",
            "|     South of Market|                 76.9|\n",
            "|          Tenderloin|            76.566666|\n",
            "| Castro/Upper Market|             74.13333|\n",
            "|    Western Addition|            67.916664|\n",
            "|            Nob Hill|                67.45|\n",
            "|     South of Market|            64.683334|\n",
            "+--------------------+---------------------+\n",
            "only showing top 20 rows\n",
            "\n"
          ]
        }
      ]
    },
    {
      "cell_type": "markdown",
      "source": [
        "## 데이터 저장 및 불러오기"
      ],
      "metadata": {
        "id": "OkIzMboehdJV"
      }
    },
    {
      "cell_type": "code",
      "source": [
        "DATA_PATH = \"/content/drive/MyDrive/멀티캠퍼스/spark/chapter03/\" # 역슬래쉬 확인\n",
        "\n",
        "# 데이터 저장\n",
        "fire_ts_df.write.format(\"parquet\").mode(\"overwrite\").save(DATA_PATH+\"parquet231024/\")"
      ],
      "metadata": {
        "id": "iTNv2ZWVge79"
      },
      "execution_count": 121,
      "outputs": []
    },
    {
      "cell_type": "markdown",
      "source": [
        "- parquet 파일 불러오기"
      ],
      "metadata": {
        "id": "X1U3TEgSiaum"
      }
    },
    {
      "cell_type": "code",
      "source": [
        "new_df = spark.read.format(\"parquet\").load(DATA_PATH+\"parquet231024/\")\n",
        "new_df.show()"
      ],
      "metadata": {
        "colab": {
          "base_uri": "https://localhost:8080/"
        },
        "id": "dyNsR1UCge99",
        "outputId": "40ee7971-d95c-4574-f56e-500f47e17662"
      },
      "execution_count": 122,
      "outputs": [
        {
          "output_type": "stream",
          "name": "stdout",
          "text": [
            "+----------+------+--------------+----------------+--------------------+--------------------+----+-------+---------+-----------+----+----------------+--------+-------------+-------+-------------+---------+--------------+--------------------------+----------------------+------------------+--------------------+--------------------+-------------+---------------------+-------------------+-------------------+-------------------+\n",
            "|CallNumber|UnitID|IncidentNumber|        CallType|CallFinalDisposition|             Address|City|Zipcode|Battalion|StationArea| Box|OriginalPriority|Priority|FinalPriority|ALSUnit|CallTypeGroup|NumAlarms|      UnitType|UnitSequenceInCallDispatch|FirePreventionDistrict|SupervisorDistrict|        Neighborhood|            Location|        RowID|ResponseDelayedinMins|       IncidentDate|        OnWatchDate|      AvailableDtTS|\n",
            "+----------+------+--------------+----------------+--------------------+--------------------+----+-------+---------+-----------+----+----------------+--------+-------------+-------+-------------+---------+--------------+--------------------------+----------------------+------------------+--------------------+--------------------+-------------+---------------------+-------------------+-------------------+-------------------+\n",
            "|  20110016|   T13|       2003235|  Structure Fire|               Other|2000 Block of CAL...|  SF|  94109|      B04|         38|3362|               3|       3|            3|  false|         null|        1|         TRUCK|                         2|                     4|                 5|     Pacific Heights|(37.7895840679362...|020110016-T13|                 2.95|2002-01-11 00:00:00|2002-01-10 00:00:00|2002-01-11 01:51:44|\n",
            "|  20110022|   M17|       2003241|Medical Incident|               Other|0 Block of SILVER...|  SF|  94124|      B10|         42|6495|               3|       3|            3|   true|         null|        1|         MEDIC|                         1|                    10|                10|Bayview Hunters P...|(37.7337623673897...|020110022-M17|                  4.7|2002-01-11 00:00:00|2002-01-10 00:00:00|2002-01-11 03:01:18|\n",
            "|  20110023|   M41|       2003242|Medical Incident|               Other|MARKET ST/MCALLIS...|  SF|  94102|      B03|         01|1455|               3|       3|            3|   true|         null|        1|         MEDIC|                         2|                     3|                 6|          Tenderloin|(37.7811772186856...|020110023-M41|            2.4333334|2002-01-11 00:00:00|2002-01-10 00:00:00|2002-01-11 02:39:50|\n",
            "|  20110032|   E11|       2003250|    Vehicle Fire|               Other|APPLETON AV/MISSI...|  SF|  94110|      B06|         32|5626|               3|       3|            3|  false|         null|        1|        ENGINE|                         1|                     6|                 9|      Bernal Heights|(37.7388432849018...|020110032-E11|                  1.5|2002-01-11 00:00:00|2002-01-10 00:00:00|2002-01-11 04:16:46|\n",
            "|  20110043|   B04|       2003259|          Alarms|               Other|1400 Block of SUT...|  SF|  94109|      B04|         03|3223|               3|       3|            3|  false|         null|        1|         CHIEF|                         2|                     4|                 2|    Western Addition|(37.7872890372638...|020110043-B04|            3.4833333|2002-01-11 00:00:00|2002-01-10 00:00:00|2002-01-11 06:01:58|\n",
            "|  20110072|   T08|       2003279|  Structure Fire|               Other|  BEALE ST/FOLSOM ST|  SF|  94105|      B03|         35|2122|               3|       3|            3|  false|         null|        1|         TRUCK|                         2|                     3|                 6|Financial Distric...|(37.7886866619654...|020110072-T08|                 1.75|2002-01-11 00:00:00|2002-01-11 00:00:00|2002-01-11 08:03:26|\n",
            "|  20110125|   E33|       2003301|          Alarms|               Other|0 Block of FARALL...|  SF|  94112|      B09|         33|8324|               3|       3|            3|  false|         null|        1|        ENGINE|                         2|                     9|                11|Oceanview/Merced/...|(37.7140353531157...|020110125-E33|            2.7166667|2002-01-11 00:00:00|2002-01-11 00:00:00|2002-01-11 09:46:44|\n",
            "|  20110130|   E36|       2003304|          Alarms|               Other|600 Block of POLK ST|  SF|  94102|      B02|         03|3114|               3|       3|            3|  false|         null|        1|        ENGINE|                         1|                     2|                 6|          Tenderloin|(37.7826266328595...|020110130-E36|            1.7833333|2002-01-11 00:00:00|2002-01-11 00:00:00|2002-01-11 09:58:53|\n",
            "|  20110197|   E05|       2003343|Medical Incident|               Other|1500 Block of WEB...|  SF|  94115|      B04|         05|3513|               3|       3|            3|  false|         null|        1|        ENGINE|                         1|                     4|                 5|           Japantown|(37.784958590666,...|020110197-E05|            1.5166667|2002-01-11 00:00:00|2002-01-11 00:00:00|2002-01-11 12:06:57|\n",
            "|  20110215|   E06|       2003348|Medical Incident|               Other|DIAMOND ST/MARKET ST|  SF|  94114|      B05|         06|5415|               3|       3|            3|  false|         null|        1|        ENGINE|                         1|                     5|                 8| Castro/Upper Market|(37.7618954753708...|020110215-E06|            2.7666667|2002-01-11 00:00:00|2002-01-11 00:00:00|2002-01-11 13:08:40|\n",
            "|  20110274|   M07|       2003381|Medical Incident|               Other|2700 Block of MIS...|  SF|  94110|      B06|         11|5525|               1|       1|            2|   true|         null|        1|         MEDIC|                         1|                     6|                 9|             Mission|(37.7530339738059...|020110274-M07|            2.1833334|2002-01-11 00:00:00|2002-01-11 00:00:00|2002-01-11 15:31:02|\n",
            "|  20110275|   T15|       2003382|  Structure Fire|               Other|BRUNSWICK ST/GUTT...|  SF|  94112|      B09|         43|6218|               3|       3|            3|  false|         null|        1|         TRUCK|                         1|                     9|                11|           Excelsior|(37.7105545807996...|020110275-T15|                  2.5|2002-01-11 00:00:00|2002-01-11 00:00:00|2002-01-11 14:59:04|\n",
            "|  20110304|   E03|       2003399|Medical Incident|               Other|1000 Block of SUT...|  SF|  94109|      B04|         03|1557|               3|       3|            3|  false|         null|        1|        ENGINE|                         1|                     4|                 3|            Nob Hill|(37.7881263034393...|020110304-E03|            2.4166667|2002-01-11 00:00:00|2002-01-11 00:00:00|2002-01-11 16:22:49|\n",
            "|  20110308|   E14|       2003403|Medical Incident|               Other|100 Block of 21ST...|  SF|  94121|      B07|         14|7173|               3|       3|            3|  false|         null|        1|        ENGINE|                         1|                     7|                 1|      Outer Richmond|(37.7850084431077...|020110308-E14|                 4.95|2002-01-11 00:00:00|2002-01-11 00:00:00|2002-01-11 16:18:33|\n",
            "|  20110313|   B10|       2003408|  Structure Fire|               Other|700 Block of CAPP ST|  SF|  94110|      B06|         07|5472|               3|       3|            3|  false|         null|        1|         CHIEF|                         6|                     6|                 9|             Mission|(37.7547064357942...|020110313-B10|            1.4166666|2002-01-11 00:00:00|2002-01-11 00:00:00|2002-01-11 16:09:08|\n",
            "|  20110313|    D3|       2003408|  Structure Fire|               Other|700 Block of CAPP ST|  SF|  94110|      B06|         07|5472|               3|       3|            3|  false|         null|        1|         CHIEF|                         4|                     6|                 9|             Mission|(37.7547064357942...| 020110313-D3|            2.5333333|2002-01-11 00:00:00|2002-01-11 00:00:00|2002-01-11 16:09:08|\n",
            "|  20110313|   E32|       2003408|  Structure Fire|               Other|700 Block of CAPP ST|  SF|  94110|      B06|         07|5472|               3|       3|            3|   true|         null|        1|        ENGINE|                         8|                     6|                 9|             Mission|(37.7547064357942...|020110313-E32|            1.8833333|2002-01-11 00:00:00|2002-01-11 00:00:00|2002-01-11 16:09:08|\n",
            "|  20110315|   RC2|       2003409|Medical Incident|               Other|200 Block of LAGU...|  SF|  94116|      B08|         20|8635|               3|       3|            3|   true|         null|        1|RESCUE CAPTAIN|                         2|                     8|                 7|  West of Twin Peaks|(37.7501117393668...|020110315-RC2|                 5.35|2002-01-11 00:00:00|2002-01-11 00:00:00|2002-01-11 16:34:23|\n",
            "|  20110330|   E14|       2003417|Medical Incident|               Other|BALBOA ST/PARK PR...|  SF|  94118|      B07|         31|7145|               3|       3|            3|  false|         null|        1|        ENGINE|                         1|                     7|                 1|      Inner Richmond|(37.7768682293368...|020110330-E14|                  2.0|2002-01-11 00:00:00|2002-01-11 00:00:00|2002-01-11 16:51:31|\n",
            "|  20110330|   M12|       2003417|Medical Incident|               Other|BALBOA ST/PARK PR...|  SF|  94118|      B07|         31|7145|               3|       3|            3|   true|         null|        1|         MEDIC|                         2|                     7|                 1|      Inner Richmond|(37.7768682293368...|020110330-M12|            1.8166667|2002-01-11 00:00:00|2002-01-11 00:00:00|2002-01-11 16:51:12|\n",
            "+----------+------+--------------+----------------+--------------------+--------------------+----+-------+---------+-----------+----+----------------+--------+-------------+-------+-------------+---------+--------------+--------------------------+----------------------+------------------+--------------------+--------------------+-------------+---------------------+-------------------+-------------------+-------------------+\n",
            "only showing top 20 rows\n",
            "\n"
          ]
        }
      ]
    },
    {
      "cell_type": "markdown",
      "source": [
        "## Spark 종료"
      ],
      "metadata": {
        "id": "sWG2Y06oAt6s"
      }
    },
    {
      "cell_type": "code",
      "source": [
        "# spark.stop()"
      ],
      "metadata": {
        "id": "JdU5gap8AwTd"
      },
      "execution_count": 71,
      "outputs": []
    }
  ]
}