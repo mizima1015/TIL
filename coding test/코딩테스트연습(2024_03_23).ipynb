{
  "nbformat": 4,
  "nbformat_minor": 0,
  "metadata": {
    "colab": {
      "provenance": []
    },
    "kernelspec": {
      "name": "python3",
      "display_name": "Python 3"
    },
    "language_info": {
      "name": "python"
    }
  },
  "cells": [
    {
      "cell_type": "markdown",
      "source": [
        "# 기본 적인 input 코드\n",
        "\n",
        "코딩테스트 처음에 가장 많이 쓰는 것 숙달 필요"
      ],
      "metadata": {
        "id": "3LNlfHy6LVzl"
      }
    },
    {
      "cell_type": "code",
      "source": [
        "n = int(input())\n",
        "data = list(map(int, input().split()))\n",
        "a, b, c = map(int, input().split())\n",
        "\n",
        "print(n)\n",
        "print(data)\n",
        "print(a,b,c)"
      ],
      "metadata": {
        "colab": {
          "base_uri": "https://localhost:8080/"
        },
        "id": "D7fCOwncLYVw",
        "outputId": "299a2e68-c3fa-47de-e039-7585951bbea5"
      },
      "execution_count": 11,
      "outputs": [
        {
          "output_type": "stream",
          "name": "stdout",
          "text": [
            "5\n",
            "30 20 50 10 40\n",
            "8 3 9\n",
            "5\n",
            "[30, 20, 50, 10, 40]\n",
            "8 3 9\n"
          ]
        }
      ]
    },
    {
      "cell_type": "markdown",
      "source": [
        "### 사용자로 부터 입력을 최대한 빠르게 받아야 하는 경우\n",
        "\n",
        "* 파이썬의 경우 sys 라이브러리에 정의되어 있는 sys.stdin.readline() 메서드를 이용한다.\n",
        "  * 단, 입력 후 Enter가 줄 바꿈 기호로 입력되므로 rstrip() 메서드를 함께 사용한다.\n",
        "\n",
        "* 이진 탐색, 정렬 알고리즘에서 많이 사용되는 방식이다.\n"
      ],
      "metadata": {
        "id": "XmtAxZrHM94C"
      }
    },
    {
      "cell_type": "code",
      "source": [
        "import sys\n",
        "\n",
        "# 문자열 입력 받기\n",
        "data = sys.stdin.readline().rstrip()\n",
        "print(data)"
      ],
      "metadata": {
        "id": "H3dMX1YQNAvG"
      },
      "execution_count": null,
      "outputs": []
    },
    {
      "cell_type": "markdown",
      "source": [
        "# 치팅범, 특정 학생 합격 명단에서 제외하기"
      ],
      "metadata": {
        "id": "I2ZEaEkWik3l"
      }
    },
    {
      "cell_type": "code",
      "source": [
        "score = [90 , 85, 77, 65, 97]\n",
        "cheating_student_lits = {2,4}\n",
        "for i in range(5):\n",
        "  if i+1 in cheating_student_lits:\n",
        "    continue\n",
        "  if score[i]>=80:\n",
        "    print(i+1,\"번 학생은 합격입니다.\")"
      ],
      "metadata": {
        "colab": {
          "base_uri": "https://localhost:8080/"
        },
        "id": "Yc1VQ7AwiuEy",
        "outputId": "377dbf23-6621-46ba-b625-0038dddd9ee9"
      },
      "execution_count": 25,
      "outputs": [
        {
          "output_type": "stream",
          "name": "stdout",
          "text": [
            "1 번 학생은 합격입니다.\n",
            "5 번 학생은 합격입니다.\n"
          ]
        }
      ]
    },
    {
      "cell_type": "markdown",
      "source": [
        "# 람다 표현식"
      ],
      "metadata": {
        "id": "5-UWFkm7mSK7"
      }
    },
    {
      "cell_type": "markdown",
      "source": [
        "print(sorted(array, key = lambda  x(=넣을 값) : x[1](=넣었을 때 어떻게 되는지)))"
      ],
      "metadata": {
        "id": "lyXEnEwxraPL"
      }
    },
    {
      "cell_type": "code",
      "source": [
        "def add(a,b):\n",
        "  return a + b\n",
        "print(add(3,7))\n",
        "\n",
        "print((lambda a, b: a + b)(3,7))"
      ],
      "metadata": {
        "colab": {
          "base_uri": "https://localhost:8080/"
        },
        "id": "B3jLXZkGmUEr",
        "outputId": "188eee27-d364-4a20-ad90-5bcf080ee0a7"
      },
      "execution_count": 26,
      "outputs": [
        {
          "output_type": "stream",
          "name": "stdout",
          "text": [
            "10\n",
            "10\n"
          ]
        }
      ]
    },
    {
      "cell_type": "code",
      "source": [
        "array = [('홍길동',50),('이순신',32),('아무개',74)]\n",
        "\n",
        "def my_key(x):\n",
        "  return x[1]\n",
        "print(sorted(array, key=my_key))\n",
        "\n",
        "print(sorted(array, key = lambda x : x[1]))"
      ],
      "metadata": {
        "colab": {
          "base_uri": "https://localhost:8080/"
        },
        "id": "VK9wLS9umo3C",
        "outputId": "f06598f9-e730-41c6-a3dc-295c8e93011d"
      },
      "execution_count": 32,
      "outputs": [
        {
          "output_type": "stream",
          "name": "stdout",
          "text": [
            "[('이순신', 32), ('홍길동', 50), ('아무개', 74)]\n",
            "[('이순신', 32), ('홍길동', 50), ('아무개', 74)]\n"
          ]
        }
      ]
    },
    {
      "cell_type": "markdown",
      "source": [
        "위 코드에서 key를 따로 지정해 주지 않는다면 sorted()는 첫 번째 요소를 기준으로 정렬한다. key를 지정해 다른 요소를 정렬 기준으로 사용할 수 있다."
      ],
      "metadata": {
        "id": "_0sdE2tZoGzz"
      }
    },
    {
      "cell_type": "code",
      "source": [
        "list1 = [1,2,3,4,5]\n",
        "list2 = [6,7,8,9,10]\n",
        "\n",
        "result = map(lambda a, b : a + b, list1,list2)\n",
        "print(list(result))"
      ],
      "metadata": {
        "colab": {
          "base_uri": "https://localhost:8080/"
        },
        "id": "M9JX_dhVp-YU",
        "outputId": "c42d2052-d4d8-435e-f462-34c37a59ea84"
      },
      "execution_count": 34,
      "outputs": [
        {
          "output_type": "stream",
          "name": "stdout",
          "text": [
            "[7, 9, 11, 13, 15]\n"
          ]
        }
      ]
    },
    {
      "cell_type": "markdown",
      "source": [
        "# 실전에서 유용한 표준 라이브러리"
      ],
      "metadata": {
        "id": "nD_wYPgDqhtT"
      }
    },
    {
      "cell_type": "markdown",
      "source": [
        "* 내장함수\n",
        "* itertools : 파이썬에서 반복되는 형태의 데이터를 처리하기 위한 유용한 기능 제공\n",
        "* heapq : heap 자료구조 제공\n",
        "  * 일반적으로 우선순위 큐 기능을 구현하기 위해 사용된다.\n",
        "* bisect : 이진 탐색 기능 제공\n",
        "* collections : deque, Counter 등\n",
        "* math : 필수적인 수학적 기능 제공"
      ],
      "metadata": {
        "id": "YriJ8ieorExm"
      }
    },
    {
      "cell_type": "markdown",
      "source": [
        "### 내장함수\n",
        "* sum\n",
        "* min, max\n",
        "* eval\n",
        "* sorted()\n",
        "* sorted() with key\n"
      ],
      "metadata": {
        "id": "oC7OXXNYr8td"
      }
    },
    {
      "cell_type": "markdown",
      "source": [
        "### 순열과 조합\n",
        "* 순열 : 서로 다른 n개에서 서로 다른 r개를 선택하여 일렬로 나열하는 것\n",
        "  * {'A','B','C'}에서 3개를 선택하여 나열하는 경우 (순서 상관 있음) :"
      ],
      "metadata": {
        "id": "dnhhniZqsg-J"
      }
    },
    {
      "cell_type": "code",
      "source": [
        "from itertools import permutations\n",
        "data = ['A','B','C'] # 데이터 준비\n",
        "result = list(permutations(data,3)) # 모든 순열 구하기\n",
        "print(result)"
      ],
      "metadata": {
        "colab": {
          "base_uri": "https://localhost:8080/"
        },
        "id": "7AzPwx6us8ev",
        "outputId": "7f4d5c65-e9c2-4673-8c53-27f7107c98bb"
      },
      "execution_count": 36,
      "outputs": [
        {
          "output_type": "stream",
          "name": "stdout",
          "text": [
            "[('A', 'B', 'C'), ('A', 'C', 'B'), ('B', 'A', 'C'), ('B', 'C', 'A'), ('C', 'A', 'B'), ('C', 'B', 'A')]\n"
          ]
        }
      ]
    },
    {
      "cell_type": "markdown",
      "source": [
        "* 조합 : 서로 다른 n개에서 순서에 상관 없이 서로 다른 r개를 선택하는 것\n",
        "  * {'A','B','C'}에서 순서를 고려하지 안혹 두 개를 뽑는 경우 : ~ ~"
      ],
      "metadata": {
        "id": "IxuFXk5Eta-u"
      }
    },
    {
      "cell_type": "code",
      "source": [
        "from itertools import combinations\n",
        "data = ['A','B','C'] # 데이터 준비\n",
        "result = list(combinations(data,2))\n",
        "print(result)"
      ],
      "metadata": {
        "colab": {
          "base_uri": "https://localhost:8080/"
        },
        "id": "nObqL5NjtrWB",
        "outputId": "5f61665b-79bb-4820-e79d-0166fafaab42"
      },
      "execution_count": 38,
      "outputs": [
        {
          "output_type": "stream",
          "name": "stdout",
          "text": [
            "[('A', 'B'), ('A', 'C'), ('B', 'C')]\n"
          ]
        }
      ]
    },
    {
      "cell_type": "markdown",
      "source": [
        "* 중복 순열 중복 조합"
      ],
      "metadata": {
        "id": "fg4BH4gzufre"
      }
    },
    {
      "cell_type": "code",
      "source": [
        "from itertools import product\n",
        "data = ['A','B','C']\n",
        "result = list(product(data,repeat=2))\n",
        "print(result)"
      ],
      "metadata": {
        "colab": {
          "base_uri": "https://localhost:8080/"
        },
        "id": "LxSjpSmAuL7y",
        "outputId": "372e8e41-bbe9-4297-9b68-ecc858d2e0ad"
      },
      "execution_count": 39,
      "outputs": [
        {
          "output_type": "stream",
          "name": "stdout",
          "text": [
            "[('A', 'A'), ('A', 'B'), ('A', 'C'), ('B', 'A'), ('B', 'B'), ('B', 'C'), ('C', 'A'), ('C', 'B'), ('C', 'C')]\n"
          ]
        }
      ]
    },
    {
      "cell_type": "code",
      "source": [
        "from itertools import combinations_with_replacement\n",
        "data = ['A','B','C']\n",
        "result = list(combinations_with_replacement(data, 2))\n",
        "print(result)"
      ],
      "metadata": {
        "colab": {
          "base_uri": "https://localhost:8080/"
        },
        "id": "mYpDztnpugrE",
        "outputId": "4627b8ae-f67c-40d6-bdbf-2ed6f97670c9"
      },
      "execution_count": 41,
      "outputs": [
        {
          "output_type": "stream",
          "name": "stdout",
          "text": [
            "[('A', 'A'), ('A', 'B'), ('A', 'C'), ('B', 'B'), ('B', 'C'), ('C', 'C')]\n"
          ]
        }
      ]
    },
    {
      "cell_type": "markdown",
      "source": [
        "### Counter\n",
        "* 파이썬 collections 라이브러리의 Counter는 등장 횟수를 세는 기능을 제공한다.\n",
        "* 리스트와 같은 반복 가능한(iterable) 객체가 주어졌을 때 내부의 원소가 몇 번씩 등장했는지를 알려준다."
      ],
      "metadata": {
        "id": "SOSKCSAKvAo6"
      }
    },
    {
      "cell_type": "code",
      "source": [
        "from collections import Counter\n",
        "counter = Counter(['red','blue','red','green','blue','blue'])\n",
        "print(counter['blue'])\n",
        "print(counter['green'])\n",
        "print(dict(counter))"
      ],
      "metadata": {
        "colab": {
          "base_uri": "https://localhost:8080/"
        },
        "id": "FOvqTvLVvQC9",
        "outputId": "e4334428-37aa-4499-a5d1-028bfbbe80cc"
      },
      "execution_count": 42,
      "outputs": [
        {
          "output_type": "stream",
          "name": "stdout",
          "text": [
            "3\n",
            "1\n",
            "{'red': 2, 'blue': 3, 'green': 1}\n"
          ]
        }
      ]
    },
    {
      "cell_type": "markdown",
      "source": [
        "### 최대 공약수와 최소 공배수\n",
        "* 최대 공약수를 구해야 할 때는 math 라이브러리의 gcd() 함수를 이용"
      ],
      "metadata": {
        "id": "Hhf2YQuPv7VK"
      }
    },
    {
      "cell_type": "code",
      "source": [
        "import math\n",
        "def lcm(a,b):\n",
        "  return a*b // math.gcd(a,b)\n",
        "\n",
        "a = 21\n",
        "b = 14\n",
        "print(math.gcd(21,14)) # 최대 공약수(gcd) 계산\n",
        "print(lcm(21,14)) # 최소 공배수 (lcm) 계산"
      ],
      "metadata": {
        "colab": {
          "base_uri": "https://localhost:8080/"
        },
        "id": "TE84Tu6HwB2I",
        "outputId": "c43a31e9-2688-4303-f50f-33571ddc0607"
      },
      "execution_count": 45,
      "outputs": [
        {
          "output_type": "stream",
          "name": "stdout",
          "text": [
            "7\n",
            "42\n"
          ]
        }
      ]
    },
    {
      "cell_type": "markdown",
      "source": [
        "# 두 배열의 원소 교체"
      ],
      "metadata": {
        "id": "osV68gGG4-R1"
      }
    },
    {
      "cell_type": "code",
      "source": [
        "n, k = map(int, input().split())\n",
        "a= list(map(int, input().split()))\n",
        "b = list(map(int, input().split()))\n",
        "\n",
        "a.sort()\n",
        "b.sort(reverse=True)\n",
        "\n",
        "for i in range(k):\n",
        "  if a[i]<b[i]:\n",
        "    a[i],b[i] = b[i], a[i]\n",
        "  else:\n",
        "    break\n",
        "\n",
        "print(sum(a))"
      ],
      "metadata": {
        "id": "c0T5g26P5njY"
      },
      "execution_count": null,
      "outputs": []
    },
    {
      "cell_type": "markdown",
      "source": [
        "# 완주하지 못한 선수\n",
        "\n",
        "마라톤에 참여한 선수들의 이름이 담긴 배열 'participant'와 완주한 선수들의 이름이 담긴 배열 'completion'이 주어질 때, 완주하지 못한 선수의 이름을 반환 하시오\n",
        "\n",
        "조건\n",
        "* 마라톤 경주에 참여한 선수의 수는 1명 이상 100,000명 이하입니다.\n",
        "* 'completion'의 길이는 'participant'의 길이보다 1 작습니다.\n",
        "* 참가자의 이름은 1개 이상 20개 이하의 알파벳 소문자로 이루어져 있습니다.\n",
        "* 참가자 중에는 동명이인이 있을 수 있습니다d."
      ],
      "metadata": {
        "id": "qD5HkRCphGlu"
      }
    },
    {
      "cell_type": "code",
      "execution_count": 3,
      "metadata": {
        "colab": {
          "base_uri": "https://localhost:8080/"
        },
        "id": "Mc-g2O38hDB-",
        "outputId": "884b7dee-d106-4bf2-fa7d-92873438a27c"
      },
      "outputs": [
        {
          "output_type": "stream",
          "name": "stdout",
          "text": [
            "완주하지 못한 선수: mislav\n"
          ]
        }
      ],
      "source": [
        "def find_uncompleted_runner(participant, completion):\n",
        "    hash_table = {}\n",
        "    for runner in participant:\n",
        "        if runner in hash_table:\n",
        "            hash_table[runner] += 1\n",
        "        else:\n",
        "            hash_table[runner] = 1\n",
        "\n",
        "    for completed_runner in completion:\n",
        "        hash_table[completed_runner] -= 1\n",
        "\n",
        "    for runner, count in hash_table.items():\n",
        "        if count != 0:\n",
        "            return runner\n",
        "\n",
        "# 예제 실행\n",
        "participant = [\"mislav\", \"stanko\", \"mislav\", \"ana\"]\n",
        "completion = [\"stanko\", \"ana\", \"mislav\"]\n",
        "uncompleted_runner = find_uncompleted_runner(participant, completion)\n",
        "print(\"완주하지 못한 선수:\", uncompleted_runner)"
      ]
    },
    {
      "cell_type": "markdown",
      "source": [
        "이 코드는 먼저 모든 참가자를 hash_table에 추가하며, 참가자 이름이 이미 테이블에 있다면 해당 이름의 값을 1 증가시킵니다. 그 다음, 완주자 배열을 순회하며 각 완주자의 hash_table 내 값을 1 감소시킵니다. 마지막으로, hash_table을 순회하며 값이 0이 아닌 키를 찾아 완주하지 못한 선수의 이름을 반환합니다.\n",
        "\n",
        "이 방법은 이름의 출현 횟수를 정확히 계산하여 동명이인이 있을 경우에도 정확히 처리할 수 있는 장점이 있습니다."
      ],
      "metadata": {
        "id": "qTncSx_DiY5W"
      }
    },
    {
      "cell_type": "markdown",
      "source": [
        "# 세 점을 알려줄 때 직사각형을 이루는 나머지 한 점 구하기\n",
        "\n",
        "조건\n",
        "* 점의 좌표는 모두 자연수이다."
      ],
      "metadata": {
        "id": "dq-OarKLkaW3"
      }
    },
    {
      "cell_type": "markdown",
      "source": [
        "### 일반 풀이"
      ],
      "metadata": {
        "id": "ct-MU_mAcoOY"
      }
    },
    {
      "cell_type": "code",
      "source": [
        "def solution(v):\n",
        "    x = []\n",
        "    y = []\n",
        "    for point in v:\n",
        "        x.append(point[0])\n",
        "        y.append(point[1])\n",
        "\n",
        "    # 각 좌표의 등장 횟수 계산\n",
        "    x_count = {}\n",
        "    y_count = {}\n",
        "    for i in x:\n",
        "        if i in x_count:\n",
        "            x_count[i] += 1\n",
        "        else:\n",
        "            x_count[i] = 1\n",
        "    for j in y:\n",
        "        if j in y_count:\n",
        "            y_count[j] += 1\n",
        "        else:\n",
        "            y_count[j] = 1\n",
        "\n",
        "    # 등장 횟수가 1인 좌표 찾기\n",
        "    X = next(k for k, v in x_count.items() if v == 1)\n",
        "    Y = next(k for k, v in y_count.items() if v == 1)\n",
        "\n",
        "    answer = [X, Y]\n",
        "    return answer\n",
        "\n",
        "v = [[1,4],[2,4],[2,2]]\n",
        "print(solution(v))\n"
      ],
      "metadata": {
        "colab": {
          "base_uri": "https://localhost:8080/"
        },
        "id": "EYAQo15tckPz",
        "outputId": "5d5da184-f162-48d1-d5f5-e79573e412c8"
      },
      "execution_count": 23,
      "outputs": [
        {
          "output_type": "stream",
          "name": "stdout",
          "text": [
            "[1, 2]\n"
          ]
        }
      ]
    },
    {
      "cell_type": "markdown",
      "source": [
        "### Counter 사용"
      ],
      "metadata": {
        "id": "oxGfhL8tclXG"
      }
    },
    {
      "cell_type": "code",
      "source": [
        "from collections import Counter\n",
        "def solution (v):\n",
        "  x=[]\n",
        "  y=[]\n",
        "  for point in v:\n",
        "    x.append(point[0])\n",
        "    y.append(point[1])\n",
        "  x_count = Counter(x)\n",
        "  y_count = Counter(y)\n",
        "  X = next(k for k , v in x_count.items() if v == 1)\n",
        "  Y = next(k for k , v in y_count.items() if v == 1)\n",
        "  answer = [X,Y]\n",
        "  return answer\n",
        "\n",
        "\n",
        "\n",
        "v = [[1,4],[2,4],[2,2]]\n",
        "print(solution(v))"
      ],
      "metadata": {
        "colab": {
          "base_uri": "https://localhost:8080/"
        },
        "id": "E4XaWIJskm9D",
        "outputId": "9fb3b5cf-79a8-4f94-90b1-a210967c6164"
      },
      "execution_count": 9,
      "outputs": [
        {
          "output_type": "stream",
          "name": "stdout",
          "text": [
            "[1, 2]\n"
          ]
        }
      ]
    },
    {
      "cell_type": "markdown",
      "source": [
        "# 등산 경로 최대 점수 구하기\n",
        "### -> 문제 이상함. 다시 살펴 보기\n",
        "\n",
        "등산로는 N x N 크기의 격자 형태로 이루어져 있으며, 각 격자 칸에는 해당 지점의 고도가 주어집니다. 등산 경로를 계획할 때, 시작 지점에서 출발하여 도착 지점까지 가는 동안 거쳐가는 격자 칸의 고도 차이의 절댓값을 점수로 합니다. 이때, 총 점수를 최대로 하는 경로의 점수를 구하는 프로그램을 작성하세요.\n",
        "\n",
        "조건:\n",
        "* 시작 지점과 도착 지점은 각각 격자의 왼쪽 상단과 오른쪽 하단입니다.\n",
        "* 이동은 상, 하, 좌, 우 방향으로만 가능합니다.\n",
        "* N은 2 이상 100 이하의 정수입니다.\n",
        "* 각 격자 칸의 고도는 1 이상 1,000 이하의 정수입니다."
      ],
      "metadata": {
        "id": "uvya-frdzXYD"
      }
    },
    {
      "cell_type": "code",
      "source": [
        "def max_score_path(N, grid):\n",
        "    # dp 테이블 초기화\n",
        "    dp = [[0 for _ in range(N)] for _ in range(N)]\n",
        "\n",
        "    # 시작 지점에서 각 칸까지의 최대 점수 계산\n",
        "    for x in range(N):\n",
        "        for y in range(N):\n",
        "            if x == 0 and y == 0:  # 시작 지점은 건너뛴다\n",
        "                continue\n",
        "            left_score = dp[x][y-1] if y > 0 else -1\n",
        "            up_score = dp[x-1][y] if x > 0 else -1\n",
        "            if left_score != -1:\n",
        "                left_score += abs(grid[x][y] - grid[x][y-1])\n",
        "            if up_score != -1:\n",
        "                up_score += abs(grid[x][y] - grid[x-1][y])\n",
        "            # 왼쪽 또는 위쪽에서 올 수 있는 경로 중 최대 점수 선택\n",
        "            dp[x][y] = max(left_score, up_score)\n",
        "\n",
        "    return dp[-1][-1]\n",
        "\n",
        "# 예제 입력\n",
        "N = 3\n",
        "grid = [\n",
        "  [1, 2, 3],\n",
        "  [4, 5, 6],\n",
        "  [7, 8, 9]\n",
        "]\n",
        "\n",
        "# 함수 실행\n",
        "max_score_path(N, grid)"
      ],
      "metadata": {
        "colab": {
          "base_uri": "https://localhost:8080/"
        },
        "id": "hln7pt1IlYpC",
        "outputId": "0da57b23-bc61-4d80-cd23-dd1863c27ce1"
      },
      "execution_count": 2,
      "outputs": [
        {
          "output_type": "execute_result",
          "data": {
            "text/plain": [
              "8"
            ]
          },
          "metadata": {},
          "execution_count": 2
        }
      ]
    },
    {
      "cell_type": "markdown",
      "source": [
        " 이 점수는 시작 지점에서 출발하여 도착 지점까지 이동하면서 얻을 수 있는 고도 차이의 절댓값 합의 최댓값입니다.\n",
        "\n",
        "이 방식은 각 격자 칸에 도달할 때 가능한 최대 점수를 반복문을 통해 계산하며, 최종적으로 도착 지점의 최대 점수를 반환합니다. 동적 프로그래밍을 이용해 각 단계에서 최적의 선택을 기록하고, 이를 통해 전체 문제의 최적 해를 구하는 전형적인 예시입니다. ​"
      ],
      "metadata": {
        "id": "Lm_wq2B-9Rvn"
      }
    },
    {
      "cell_type": "markdown",
      "source": [
        "# 최소 회의실 갯수\n",
        "\n",
        "문제 설명:\n",
        "한 회사에서는 여러 팀이 회의를 진행합니다. 각 팀은 회의 시작 시간과 종료 시간을 미리 정해두고 있으며, 회의실은 한 번에 하나의 팀만 사용할 수 있습니다. 모든 팀의 회의를 진행하기 위해 필요한 최소 회의실 개수를 구하는 프로그램을 작성하세요.\n",
        "\n",
        "조건:\n",
        "* 회의는 시작 시간과 동시에 시작되며, 종료 시간에 바로 종료됩니다.\n",
        "* 회의의 시작 시간과 종료 시간은 같을 수 있으며, 이 경우 회의는 종료 시간에  시작하여 바로 종료됩니다.\n",
        "* 회의 시간은 모두 정수로 주어지며, 0시부터 23시까지의 시간을 사용합니다.\n",
        "\n",
        "입력 예시:\n",
        "회의 시간 배열: [[0, 30], [5, 10], [15, 20]]\n",
        "\n",
        "출력 예시:\n",
        "최소 회의실 개수: 2"
      ],
      "metadata": {
        "id": "zuTkNHK7A-DK"
      }
    },
    {
      "cell_type": "markdown",
      "source": [
        "### 일반 풀이"
      ],
      "metadata": {
        "id": "88tQn1tFVw8c"
      }
    },
    {
      "cell_type": "code",
      "source": [
        "def minMeetingRooms(meetings):\n",
        "    if not meetings:\n",
        "        return 0\n",
        "\n",
        "    # 시작 시간과 종료 시간을 분리하여 각각 정렬\n",
        "    start_times = sorted([meeting[0] for meeting in meetings])\n",
        "    end_times = sorted([meeting[1] for meeting in meetings])\n",
        "\n",
        "    start_ptr, end_ptr = 0, 0\n",
        "    rooms_needed = 0\n",
        "\n",
        "    while start_ptr < len(meetings):\n",
        "        # 현재 회의의 시작 시간이 다음 회의의 종료 시간보다 크거나 같으면 회의실 재사용 가능\n",
        "        if start_times[start_ptr] >= end_times[end_ptr]:\n",
        "            rooms_needed -= 1\n",
        "            end_ptr += 1\n",
        "\n",
        "        # 회의실 추가\n",
        "        rooms_needed += 1\n",
        "        start_ptr += 1\n",
        "\n",
        "    return rooms_needed\n",
        "\n",
        "# 예제 입력\n",
        "meetings = [[0, 30], [5, 10], [15, 20]]\n",
        "\n",
        "# 함수 실행\n",
        "minMeetingRooms(meetings)"
      ],
      "metadata": {
        "colab": {
          "base_uri": "https://localhost:8080/"
        },
        "id": "ZKLnAn0-VsMT",
        "outputId": "16d8257c-24ab-480f-d4f5-69bbe6b73be0"
      },
      "execution_count": 22,
      "outputs": [
        {
          "output_type": "execute_result",
          "data": {
            "text/plain": [
              "2"
            ]
          },
          "metadata": {},
          "execution_count": 22
        }
      ]
    },
    {
      "cell_type": "markdown",
      "source": [
        "### heapq 사용시"
      ],
      "metadata": {
        "id": "4Cenu-iwVtgq"
      }
    },
    {
      "cell_type": "code",
      "source": [
        "import heapq\n",
        "\n",
        "def minMeetingRooms(meetings):\n",
        "    if not meetings:\n",
        "        return 0\n",
        "\n",
        "    # 시작 시간을 기준으로 회의 시간 정렬\n",
        "    meetings.sort(key=lambda x: x[0])\n",
        "\n",
        "    # 우선순위 큐 초기화\n",
        "    pq = []\n",
        "\n",
        "    # 첫 회의를 큐에 추가\n",
        "    heapq.heappush(pq, meetings[0][1])\n",
        "\n",
        "    for meeting in meetings[1:]:\n",
        "        # 현재 회의의 시작 시간이 큐의 최상단 회의의 종료 시간보다 크거나 같으면\n",
        "        # 그 회의실에서 현재 회의를 진행할 수 있음\n",
        "        if meeting[0] >= pq[0]:\n",
        "            heapq.heappop(pq)  # 가장 먼저 끝나는 회의 제거\n",
        "\n",
        "        heapq.heappush(pq, meeting[1])  # 현재 회의 추가\n",
        "\n",
        "    # 필요한 회의실의 최소 개수는 우선순위 큐의 크기\n",
        "    return len(pq)\n",
        "\n",
        "# 예제 입력\n",
        "meetings = [[0, 30], [5, 10], [15, 20]]\n",
        "\n",
        "# 함수 실행\n",
        "minMeetingRooms(meetings)"
      ],
      "metadata": {
        "id": "YmYaPel-UVQh"
      },
      "execution_count": null,
      "outputs": []
    },
    {
      "cell_type": "markdown",
      "source": [
        "# 숫자 카드 게임\n",
        "\n",
        "문제 설명:\n",
        "\n",
        "숫자 카드들이 일렬로 늘어서 있습니다. 각 카드에는 1부터 100,000까지의 숫자 중 하나가 적혀 있습니다. 당신은 이 카드들 중에서 하나를 선택하여, 그 카드에 적힌 숫자를 맞춰야 합니다. 당신은 도우미에게 몇 번의 질문을 할 수 있는데, 각 질문은 \"이 숫자보다 큰 숫자가 적힌 카드가 몇 장인가요?\"와 같은 형식입니다. 이 게임의 목표는 가능한 적은 질문으로 특정 숫자를 맞추는 것입니다.\n",
        "\n",
        "조건:\n",
        "* 숫자 카드는 무작위로 배치되어 있지 않고, 오름차순으로 정렬되어 있습니다.\n",
        "* 도우미의 대답은 항상 정확합니다.\n",
        "* 가능한 적은 질문으로 숫자를 맞춰야 합니다.\n",
        "\n",
        "입력 예시:\n",
        "\n",
        "숫자 카드 배열: [1, 3, 5, 7, 9]\n",
        "\n",
        "찾아야 하는 숫자: 3\n",
        "\n",
        "출력 예시:\n",
        "필요한 최소 질문 횟수: 3"
      ],
      "metadata": {
        "id": "j6VNInE4kzZB"
      }
    },
    {
      "cell_type": "code",
      "source": [
        "def binarySearch(cards, target):\n",
        "    start, end = 0, len(cards) - 1\n",
        "    questions = 0  # 질문 횟수\n",
        "\n",
        "    while start <= end:\n",
        "        mid = (start + end) // 2\n",
        "        questions += 1  # 질문 하나 추가\n",
        "\n",
        "        if cards[mid] == target:\n",
        "            return questions  # 목표 값을 찾음\n",
        "        elif cards[mid] < target:\n",
        "            start = mid + 1\n",
        "        else:\n",
        "            end = mid - 1\n",
        "\n",
        "    return questions  # 목표 값이 배열에 없는 경우, 질문 횟수 반환\n",
        "\n",
        "# 예제 입력\n",
        "cards = [1, 3, 5, 7, 9]\n",
        "target = 3\n",
        "\n",
        "# 함수 실행 및 결과 출력\n",
        "binarySearch(cards, target)"
      ],
      "metadata": {
        "colab": {
          "base_uri": "https://localhost:8080/"
        },
        "id": "tdiqMKoByLac",
        "outputId": "e08a7a9e-895e-4715-f17c-7bf8e8a47c20"
      },
      "execution_count": 50,
      "outputs": [
        {
          "output_type": "execute_result",
          "data": {
            "text/plain": [
              "3"
            ]
          },
          "metadata": {},
          "execution_count": 50
        }
      ]
    },
    {
      "cell_type": "code",
      "source": [
        "x= 1//2\n",
        "print(x)"
      ],
      "metadata": {
        "colab": {
          "base_uri": "https://localhost:8080/"
        },
        "id": "KM0we-UQ0pEP",
        "outputId": "66736150-9bcc-4752-d427-c932cfd01962"
      },
      "execution_count": 48,
      "outputs": [
        {
          "output_type": "stream",
          "name": "stdout",
          "text": [
            "0\n"
          ]
        }
      ]
    },
    {
      "cell_type": "markdown",
      "source": [
        "# 거스름 돈\n",
        "\n",
        "문제 설명:\n",
        "\n",
        "당신은 카운터에서 일하며, 고객에게 거스름돈을 주어야 합니다. 사용할 수 있는 동전은 500원, 100원, 50원, 10원이며, 가능한 적은 수의 동전을 사용하여 거스름돈을 주려고 합니다. 거스름돈의 액수가 주어졌을 때, 필요한 동전의 최소 개수를 구하는 프로그램을 작성하세요.\n",
        "\n",
        "조건:\n",
        "\n",
        "* 거스름돈의 액수는 항상 10원 단위로 주어집니다.\n",
        "* 사용할 수 있는 동전의 종류는 500원, 100원, 50원, 10원입니다.\n",
        "\n",
        "입력 예시:\n",
        "\n",
        "거스름돈 액수: 1260원\n",
        "\n",
        "출력 예시:\n",
        "\n",
        "필요한 최소 동전 개수: 6개 (500원 2개, 100원 2개, 50원 1개, 10원 1개)"
      ],
      "metadata": {
        "id": "lqXyGCPJ6T6F"
      }
    },
    {
      "cell_type": "code",
      "source": [
        "def minCoins(change):\n",
        "    # 동전의 종류\n",
        "    coins = [500, 100, 50, 10]\n",
        "    total_coins = 0  # 사용된 동전의 총 개수\n",
        "\n",
        "    for coin in coins:\n",
        "        # 현재 동전으로 줄 수 있는 최대 개수 계산\n",
        "        count = change // coin\n",
        "        total_coins += count  # 동전 개수 합산\n",
        "        change -= coin * count  # 남은 거스름돈 갱신\n",
        "\n",
        "    return total_coins\n",
        "\n",
        "# 예제 입력\n",
        "change = 1260\n",
        "\n",
        "# 함수 실행 및 결과 출력\n",
        "minCoins(change)"
      ],
      "metadata": {
        "colab": {
          "base_uri": "https://localhost:8080/"
        },
        "id": "c3dic8-86ttJ",
        "outputId": "4a1fbe6a-3a69-44aa-bd2c-0a40940338ef"
      },
      "execution_count": 52,
      "outputs": [
        {
          "output_type": "execute_result",
          "data": {
            "text/plain": [
              "6"
            ]
          },
          "metadata": {},
          "execution_count": 52
        }
      ]
    },
    {
      "cell_type": "markdown",
      "source": [
        "# 성적이 낮은 순서로 학생 출력하기\n",
        "문제 설명:\n",
        "\n",
        "학생들의 이름과 성적 정보가 주어질 때, 성적이 낮은 순서대로 이름을 출력하는 프로그램을 작성하세요.\n",
        "\n",
        "조건:\n",
        "\n",
        "* 학생의 수는 1 이상 100,000 이하입니다.\n",
        "* 학생의 이름은 알파벳 대소문자로 이루어져 있으며, 길이는 100 이하입니다.\n",
        "* 성적은 100 이하의 자연수입니다.\n",
        "\n",
        "\n",
        "학생 정보: [(\"홍길동\", 95), (\"이순신\", 77), (\"강감찬\", 80), (\"안중근\", 74)]\n",
        "\n",
        "안중근 이순신 강감찬 홍길동\n"
      ],
      "metadata": {
        "id": "GcFhEV4U7TAO"
      }
    },
    {
      "cell_type": "code",
      "source": [
        "def print_students_by_score(student_info):\n",
        "    # 성적을 기준으로 학생 정보 정렬\n",
        "    sorted_students = sorted(student_info, key=lambda x: x[1])\n",
        "\n",
        "    # 정렬된 학생 정보에서 이름만 추출하여 출력\n",
        "    for student in sorted_students:\n",
        "        print(student[0], end=' ')\n",
        "\n",
        "# 예제 입력\n",
        "student_info = [(\"홍길동\", 95), (\"이순신\", 77), (\"강감찬\", 80), (\"안중근\", 74)]\n",
        "\n",
        "# 함수 실행\n",
        "print_students_by_score(student_info)\n"
      ],
      "metadata": {
        "id": "tuh_US8i7f4I"
      },
      "execution_count": null,
      "outputs": []
    },
    {
      "cell_type": "markdown",
      "source": [
        "# 피보나치 수열\n",
        "\n",
        "문제 설명:\n",
        "\n",
        "피보나치 수열은 앞의 두 숫자를 합하여 다음 숫자가 되는 수열입니다. 첫 두 숫자는 0과 1로 시작하며, 이후의 숫자는 바로 앞 두 숫자의 합으로 이루어집니다. 예를 들어, 피보나치 수열의 처음 몇 개의 숫자는 다음과 같습니다: 0, 1, 1, 2, 3, 5, 8, 13, 21, 34, ...\n",
        "\n",
        "n번째 피보나치 수를 구하는 프로그램을 작성하세요.\n",
        "\n",
        "조건:\n",
        "\n",
        "* n은 0 이상의 정수입니다.\n",
        "* n이 클 경우를 대비하여, 다이나믹 프로그래밍을 활용하여 효율적으로 계산해야 합니다.\n",
        "\n",
        "입력 예시:\n",
        "n = 9\n",
        "\n",
        "출력 예시:\n",
        "34"
      ],
      "metadata": {
        "id": "QqJ5qB6c83Qd"
      }
    },
    {
      "cell_type": "code",
      "source": [
        "def fibo_bottom_up(n):\n",
        "    # 초기 피보나치 수열의 값 0, 1 설정\n",
        "    fibo = [0, 1] + [0] * (n-1)\n",
        "\n",
        "    # 피보나치 수열 계산\n",
        "    for i in range(2, n+1):\n",
        "        fibo[i] = fibo[i-1] + fibo[i-2]\n",
        "\n",
        "    return fibo[n-1]\n",
        "\n",
        "# 예제 실행\n",
        "n = 9\n",
        "print(fibo_bottom_up(n))\n"
      ],
      "metadata": {
        "colab": {
          "base_uri": "https://localhost:8080/"
        },
        "id": "EwWERL1n9aIv",
        "outputId": "3a1b19f0-e728-4736-9d2d-0592df9c7ed8"
      },
      "execution_count": 54,
      "outputs": [
        {
          "output_type": "stream",
          "name": "stdout",
          "text": [
            "21\n"
          ]
        }
      ]
    },
    {
      "cell_type": "code",
      "source": [],
      "metadata": {
        "id": "_STctMZ0-8xn"
      },
      "execution_count": null,
      "outputs": []
    }
  ]
}